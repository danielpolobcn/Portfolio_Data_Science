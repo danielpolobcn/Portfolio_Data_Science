{
 "cells": [
  {
   "cell_type": "markdown",
   "id": "4f272510",
   "metadata": {},
   "source": [
    "# Lights, Camera, Action! Challenge\n",
    "\n",
    "Welcome to the Lights, Camera, Action Challenge! In this thrilling competition, you will dive into the world of movies and TV shows, predicting the IMDB score classes like a seasoned film critic. The IMDB score is a well-established metric in the film industry, serving as a barometer for a title's quality. Ready for your close-up? Let's roll!\n",
    "\n",
    "For this challenge, you will have 4 csv files: train_titles.csv, train_credits.csv, test_titles.csv, and test_credits.csv.\n",
    "\n",
    "The train_credits.csv and test_credits.csv files are your supporting cast, providing extra information about the actors and directors of each title. Although adding the titles credits information can boost your model performance, it is not required to use the credits datasets.\n",
    "\n",
    "Your only objective is: Predicting the IMDB score for the test titles. Please note that your model should predict the IMDB score, and then transform this score into the target column using the get_imdb_score_class function provided. Your performance will be judged using the F1 macro score with the target column."
   ]
  },
  {
   "cell_type": "markdown",
   "id": "8ac37b0e",
   "metadata": {},
   "source": [
    "## 1. Exploring the titles database"
   ]
  },
  {
   "cell_type": "code",
   "execution_count": 1,
   "id": "26a7e767",
   "metadata": {},
   "outputs": [],
   "source": [
    "import numpy as np\n",
    "import matplotlib.pyplot as plt\n",
    "import seaborn as sns\n",
    "import pandas as pd\n",
    "import warnings\n",
    "warnings.filterwarnings(\"ignore\")"
   ]
  },
  {
   "cell_type": "code",
   "execution_count": 2,
   "id": "d9223f85",
   "metadata": {},
   "outputs": [
    {
     "data": {
      "text/html": [
       "<div>\n",
       "<style scoped>\n",
       "    .dataframe tbody tr th:only-of-type {\n",
       "        vertical-align: middle;\n",
       "    }\n",
       "\n",
       "    .dataframe tbody tr th {\n",
       "        vertical-align: top;\n",
       "    }\n",
       "\n",
       "    .dataframe thead th {\n",
       "        text-align: right;\n",
       "    }\n",
       "</style>\n",
       "<table border=\"1\" class=\"dataframe\">\n",
       "  <thead>\n",
       "    <tr style=\"text-align: right;\">\n",
       "      <th></th>\n",
       "      <th>train_idx</th>\n",
       "      <th>id</th>\n",
       "      <th>title</th>\n",
       "      <th>type</th>\n",
       "      <th>description</th>\n",
       "      <th>release_year</th>\n",
       "      <th>age_certification</th>\n",
       "      <th>runtime</th>\n",
       "      <th>genres</th>\n",
       "      <th>production_countries</th>\n",
       "      <th>seasons</th>\n",
       "      <th>streaming</th>\n",
       "      <th>imdb_votes</th>\n",
       "      <th>imdb_score</th>\n",
       "      <th>target</th>\n",
       "    </tr>\n",
       "  </thead>\n",
       "  <tbody>\n",
       "    <tr>\n",
       "      <th>0</th>\n",
       "      <td>0</td>\n",
       "      <td>tm164331</td>\n",
       "      <td>The Marquis</td>\n",
       "      <td>MOVIE</td>\n",
       "      <td>Thomas Gardesse, a traveling alarm systems sal...</td>\n",
       "      <td>2011</td>\n",
       "      <td>G</td>\n",
       "      <td>88</td>\n",
       "      <td>['comedy', 'european', 'crime', 'drama']</td>\n",
       "      <td>['FR']</td>\n",
       "      <td>NaN</td>\n",
       "      <td>amazon</td>\n",
       "      <td>816</td>\n",
       "      <td>4.9</td>\n",
       "      <td>3</td>\n",
       "    </tr>\n",
       "    <tr>\n",
       "      <th>1</th>\n",
       "      <td>1</td>\n",
       "      <td>ts89550</td>\n",
       "      <td>Fire Force</td>\n",
       "      <td>SHOW</td>\n",
       "      <td>Year 198 of the Solar Era in Tokyo, special fi...</td>\n",
       "      <td>2019</td>\n",
       "      <td>TV-14</td>\n",
       "      <td>24</td>\n",
       "      <td>['scifi', 'comedy', 'action', 'fantasy', 'anim...</td>\n",
       "      <td>['JP']</td>\n",
       "      <td>2.0</td>\n",
       "      <td>hulu</td>\n",
       "      <td>8621</td>\n",
       "      <td>7.6</td>\n",
       "      <td>6</td>\n",
       "    </tr>\n",
       "    <tr>\n",
       "      <th>2</th>\n",
       "      <td>2</td>\n",
       "      <td>tm79689</td>\n",
       "      <td>30 Days of Night</td>\n",
       "      <td>MOVIE</td>\n",
       "      <td>This is the story of an isolated Alaskan town ...</td>\n",
       "      <td>2007</td>\n",
       "      <td>R</td>\n",
       "      <td>113</td>\n",
       "      <td>['horror', 'thriller', 'action']</td>\n",
       "      <td>['NZ', 'US']</td>\n",
       "      <td>NaN</td>\n",
       "      <td>hulu</td>\n",
       "      <td>181869</td>\n",
       "      <td>6.6</td>\n",
       "      <td>5</td>\n",
       "    </tr>\n",
       "    <tr>\n",
       "      <th>3</th>\n",
       "      <td>3</td>\n",
       "      <td>tm372366</td>\n",
       "      <td>306 Hollywood</td>\n",
       "      <td>MOVIE</td>\n",
       "      <td>When two siblings undertake an archaeological ...</td>\n",
       "      <td>2018</td>\n",
       "      <td>NaN</td>\n",
       "      <td>94</td>\n",
       "      <td>['documentation']</td>\n",
       "      <td>['US']</td>\n",
       "      <td>NaN</td>\n",
       "      <td>amazon</td>\n",
       "      <td>307</td>\n",
       "      <td>6.8</td>\n",
       "      <td>5</td>\n",
       "    </tr>\n",
       "    <tr>\n",
       "      <th>4</th>\n",
       "      <td>4</td>\n",
       "      <td>tm60248</td>\n",
       "      <td>Child's Play</td>\n",
       "      <td>MOVIE</td>\n",
       "      <td>A single mother gives her son a beloved doll f...</td>\n",
       "      <td>1988</td>\n",
       "      <td>R</td>\n",
       "      <td>87</td>\n",
       "      <td>['horror', 'thriller', 'fantasy']</td>\n",
       "      <td>['US']</td>\n",
       "      <td>NaN</td>\n",
       "      <td>hbo</td>\n",
       "      <td>108017</td>\n",
       "      <td>6.6</td>\n",
       "      <td>5</td>\n",
       "    </tr>\n",
       "  </tbody>\n",
       "</table>\n",
       "</div>"
      ],
      "text/plain": [
       "   train_idx        id             title   type  \\\n",
       "0          0  tm164331       The Marquis  MOVIE   \n",
       "1          1   ts89550        Fire Force   SHOW   \n",
       "2          2   tm79689  30 Days of Night  MOVIE   \n",
       "3          3  tm372366     306 Hollywood  MOVIE   \n",
       "4          4   tm60248      Child's Play  MOVIE   \n",
       "\n",
       "                                         description  release_year  \\\n",
       "0  Thomas Gardesse, a traveling alarm systems sal...          2011   \n",
       "1  Year 198 of the Solar Era in Tokyo, special fi...          2019   \n",
       "2  This is the story of an isolated Alaskan town ...          2007   \n",
       "3  When two siblings undertake an archaeological ...          2018   \n",
       "4  A single mother gives her son a beloved doll f...          1988   \n",
       "\n",
       "  age_certification  runtime  \\\n",
       "0                 G       88   \n",
       "1             TV-14       24   \n",
       "2                 R      113   \n",
       "3               NaN       94   \n",
       "4                 R       87   \n",
       "\n",
       "                                              genres production_countries  \\\n",
       "0           ['comedy', 'european', 'crime', 'drama']               ['FR']   \n",
       "1  ['scifi', 'comedy', 'action', 'fantasy', 'anim...               ['JP']   \n",
       "2                   ['horror', 'thriller', 'action']         ['NZ', 'US']   \n",
       "3                                  ['documentation']               ['US']   \n",
       "4                  ['horror', 'thriller', 'fantasy']               ['US']   \n",
       "\n",
       "   seasons streaming  imdb_votes  imdb_score  target  \n",
       "0      NaN    amazon         816         4.9       3  \n",
       "1      2.0      hulu        8621         7.6       6  \n",
       "2      NaN      hulu      181869         6.6       5  \n",
       "3      NaN    amazon         307         6.8       5  \n",
       "4      NaN       hbo      108017         6.6       5  "
      ]
     },
     "execution_count": 2,
     "metadata": {},
     "output_type": "execute_result"
    }
   ],
   "source": [
    "df = pd.read_csv(\"train_titles.csv\")\n",
    "pd.set_option(\"display.max_columns\", df.shape[1])\n",
    "df.head()"
   ]
  },
  {
   "cell_type": "code",
   "execution_count": 3,
   "id": "a8fc64c3",
   "metadata": {},
   "outputs": [
    {
     "name": "stdout",
     "output_type": "stream",
     "text": [
      "<class 'pandas.core.frame.DataFrame'>\n",
      "RangeIndex: 16545 entries, 0 to 16544\n",
      "Data columns (total 15 columns):\n",
      " #   Column                Non-Null Count  Dtype  \n",
      "---  ------                --------------  -----  \n",
      " 0   train_idx             16545 non-null  int64  \n",
      " 1   id                    16545 non-null  object \n",
      " 2   title                 16545 non-null  object \n",
      " 3   type                  16545 non-null  object \n",
      " 4   description           16512 non-null  object \n",
      " 5   release_year          16545 non-null  int64  \n",
      " 6   age_certification     8646 non-null   object \n",
      " 7   runtime               16545 non-null  int64  \n",
      " 8   genres                16545 non-null  object \n",
      " 9   production_countries  16545 non-null  object \n",
      " 10  seasons               4422 non-null   float64\n",
      " 11  streaming             16545 non-null  object \n",
      " 12  imdb_votes            16545 non-null  int64  \n",
      " 13  imdb_score            16545 non-null  float64\n",
      " 14  target                16545 non-null  int64  \n",
      "dtypes: float64(2), int64(5), object(8)\n",
      "memory usage: 1.9+ MB\n"
     ]
    }
   ],
   "source": [
    "df.info()"
   ]
  },
  {
   "cell_type": "code",
   "execution_count": 4,
   "id": "5273f086",
   "metadata": {},
   "outputs": [
    {
     "data": {
      "text/plain": [
       "False    16545\n",
       "dtype: int64"
      ]
     },
     "execution_count": 4,
     "metadata": {},
     "output_type": "execute_result"
    }
   ],
   "source": [
    "df.duplicated().value_counts()"
   ]
  },
  {
   "cell_type": "code",
   "execution_count": 5,
   "id": "11b22e6b",
   "metadata": {},
   "outputs": [
    {
     "data": {
      "text/plain": [
       "train_idx                   0\n",
       "id                          0\n",
       "title                       0\n",
       "type                        0\n",
       "description                33\n",
       "release_year                0\n",
       "age_certification        7899\n",
       "runtime                     0\n",
       "genres                      0\n",
       "production_countries        0\n",
       "seasons                 12123\n",
       "streaming                   0\n",
       "imdb_votes                  0\n",
       "imdb_score                  0\n",
       "target                      0\n",
       "dtype: int64"
      ]
     },
     "execution_count": 5,
     "metadata": {},
     "output_type": "execute_result"
    }
   ],
   "source": [
    "df.isna().sum()"
   ]
  },
  {
   "cell_type": "markdown",
   "id": "2b354de9",
   "metadata": {},
   "source": [
    "We will discard the following features for the modelling: title, description. So we do not need to worry about the NaN in description.\n",
    "\n",
    "Next we explore and transform the relevant features one at a time."
   ]
  },
  {
   "cell_type": "markdown",
   "id": "02f311b9",
   "metadata": {},
   "source": [
    "### Seasons"
   ]
  },
  {
   "cell_type": "code",
   "execution_count": 6,
   "id": "90e492d5",
   "metadata": {},
   "outputs": [
    {
     "name": "stdout",
     "output_type": "stream",
     "text": [
      "[nan]\n",
      "[ 2.  8.  1.  5.  4. 17.  3.  9.  6. 12. 36. 31. 10. 26. 11. 20.  7. 53.\n",
      " 16. 21. 19. 34. 32. 13. 27. 15. 14. 50. 22. 33. 24. 25. 18. 23. 30. 38.\n",
      " 45. 29. 35.]\n"
     ]
    }
   ],
   "source": [
    "movies = df[df[\"type\"] == \"MOVIE\"]\n",
    "print(movies[\"seasons\"].unique())\n",
    "shows = df[df[\"type\"] == \"SHOW\"]\n",
    "print(shows[\"seasons\"].unique())"
   ]
  },
  {
   "cell_type": "markdown",
   "id": "1b58bd61",
   "metadata": {},
   "source": [
    "After checking that only \"MOVIE\" types have NaN value for seasons, we will fill these NANs with zeros."
   ]
  },
  {
   "cell_type": "code",
   "execution_count": 7,
   "id": "6fde407f",
   "metadata": {},
   "outputs": [
    {
     "data": {
      "text/plain": [
       "0.0     12123\n",
       "1.0      2165\n",
       "2.0       783\n",
       "3.0       486\n",
       "4.0       264\n",
       "5.0       196\n",
       "6.0       151\n",
       "7.0        98\n",
       "8.0        57\n",
       "9.0        33\n",
       "11.0       31\n",
       "10.0       27\n",
       "12.0       19\n",
       "13.0       12\n",
       "15.0       11\n",
       "16.0       11\n",
       "14.0        9\n",
       "21.0        8\n",
       "24.0        7\n",
       "17.0        5\n",
       "20.0        5\n",
       "33.0        5\n",
       "19.0        4\n",
       "31.0        4\n",
       "18.0        4\n",
       "22.0        3\n",
       "30.0        3\n",
       "26.0        3\n",
       "34.0        3\n",
       "25.0        3\n",
       "29.0        2\n",
       "36.0        2\n",
       "45.0        1\n",
       "38.0        1\n",
       "53.0        1\n",
       "23.0        1\n",
       "50.0        1\n",
       "27.0        1\n",
       "32.0        1\n",
       "35.0        1\n",
       "Name: seasons, dtype: int64"
      ]
     },
     "execution_count": 7,
     "metadata": {},
     "output_type": "execute_result"
    }
   ],
   "source": [
    "df[\"seasons\"].fillna(0, inplace=True)\n",
    "df[\"seasons\"].value_counts()"
   ]
  },
  {
   "cell_type": "code",
   "execution_count": 8,
   "id": "e7624ebb",
   "metadata": {},
   "outputs": [
    {
     "data": {
      "image/png": "[encoded data removed]",
      "text/plain": [
       "<Figure size 640x480 with 1 Axes>"
      ]
     },
     "metadata": {},
     "output_type": "display_data"
    }
   ],
   "source": [
    "sns.boxplot(x=df[\"seasons\"]);"
   ]
  },
  {
   "cell_type": "code",
   "execution_count": 9,
   "id": "9b75f177",
   "metadata": {},
   "outputs": [
    {
     "data": {
      "image/png": "[encoded data removed]",
      "text/plain": [
       "<Figure size 640x480 with 1 Axes>"
      ]
     },
     "metadata": {},
     "output_type": "display_data"
    }
   ],
   "source": [
    "plt.hist(df[\"seasons\"], bins=35)\n",
    "plt.show;"
   ]
  },
  {
   "cell_type": "markdown",
   "id": "495f3d94",
   "metadata": {},
   "source": [
    "We will dummify this discrete feature into three groups (0, 1, 2+ seasons)."
   ]
  },
  {
   "cell_type": "code",
   "execution_count": 10,
   "id": "6da30877",
   "metadata": {},
   "outputs": [],
   "source": [
    "seasons = [\"0seasons\", \"1seasons\", \"2+seasons\"]\n",
    "\n",
    "def fillSeasons (input):\n",
    "    if i == 0:\n",
    "        if input == 0:\n",
    "            return 1\n",
    "        else:\n",
    "            return 0\n",
    "    if i == 1:\n",
    "        if input == 1:\n",
    "            return 1\n",
    "        else:\n",
    "            return 0\n",
    "    if i == 2:\n",
    "        if input >= 2:\n",
    "            return 1\n",
    "        else:\n",
    "            return 0\n",
    "    \n",
    "i = 0\n",
    "while i < len(seasons):\n",
    "    df[seasons[i]] = df[\"seasons\"].apply(fillSeasons)\n",
    "    i += 1"
   ]
  },
  {
   "cell_type": "markdown",
   "id": "db21077b",
   "metadata": {},
   "source": [
    "### Runtime"
   ]
  },
  {
   "cell_type": "code",
   "execution_count": 11,
   "id": "b76080d7",
   "metadata": {},
   "outputs": [
    {
     "data": {
      "text/plain": [
       "count    16545.000000\n",
       "mean        81.471804\n",
       "std         35.837430\n",
       "min          0.000000\n",
       "25%         53.000000\n",
       "50%         88.000000\n",
       "75%        104.000000\n",
       "max        328.000000\n",
       "Name: runtime, dtype: float64"
      ]
     },
     "execution_count": 11,
     "metadata": {},
     "output_type": "execute_result"
    }
   ],
   "source": [
    "df[\"runtime\"].describe()"
   ]
  },
  {
   "cell_type": "code",
   "execution_count": 12,
   "id": "fb4dbd7a",
   "metadata": {},
   "outputs": [
    {
     "data": {
      "image/png": "[encoded data removed]",
      "text/plain": [
       "<Figure size 640x480 with 1 Axes>"
      ]
     },
     "metadata": {},
     "output_type": "display_data"
    }
   ],
   "source": [
    "plt.hist(df[\"runtime\"], bins=329)\n",
    "plt.show;"
   ]
  },
  {
   "cell_type": "code",
   "execution_count": 13,
   "id": "c8721c50",
   "metadata": {},
   "outputs": [
    {
     "data": {
      "image/png": "[encoded data removed]",
      "text/plain": [
       "<Figure size 640x480 with 1 Axes>"
      ]
     },
     "metadata": {},
     "output_type": "display_data"
    }
   ],
   "source": [
    "sns.boxplot(x=df[\"runtime\"]);"
   ]
  },
  {
   "cell_type": "markdown",
   "id": "a86b5041",
   "metadata": {},
   "source": [
    "There are a few lines with runtime = 0 or very close, however this implies few cases and could be theoretically possible (runtimes of a few seconds, maybe in children animation titles), so we will not fix anything here."
   ]
  },
  {
   "cell_type": "markdown",
   "id": "826d95a0",
   "metadata": {},
   "source": [
    "### Genres"
   ]
  },
  {
   "cell_type": "code",
   "execution_count": 14,
   "id": "8ff264a9",
   "metadata": {},
   "outputs": [
    {
     "data": {
      "text/plain": [
       "array([\"['comedy', 'european', 'crime', 'drama']\",\n",
       "       \"['scifi', 'comedy', 'action', 'fantasy', 'animation', 'drama']\",\n",
       "       \"['horror', 'thriller', 'action']\", ...,\n",
       "       \"['fantasy', 'scifi', 'action']\", \"['drama', 'music', 'action']\",\n",
       "       \"['romance', 'crime', 'drama', 'thriller']\"], dtype=object)"
      ]
     },
     "execution_count": 14,
     "metadata": {},
     "output_type": "execute_result"
    }
   ],
   "source": [
    "df[\"genres\"].unique()"
   ]
  },
  {
   "cell_type": "code",
   "execution_count": 15,
   "id": "01d60637",
   "metadata": {},
   "outputs": [
    {
     "name": "stdout",
     "output_type": "stream",
     "text": [
      "['comedy', 'european', 'crime', 'drama', 'scifi', 'action', 'fantasy', 'animation', 'horror', 'thriller', 'documentation', 'romance', 'family', 'reality', 'history', 'music', 'western', 'sport', 'war']\n",
      "19\n"
     ]
    }
   ],
   "source": [
    "import re\n",
    "\n",
    "genres = []\n",
    "\n",
    "for x in df[\"genres\"]:\n",
    "    text = re.sub(r\"[\\'\\[\\],]\",\"\", x)\n",
    "    words = text.split()\n",
    "    for x in words:\n",
    "        genres.append(x)\n",
    "genres = list(dict.fromkeys(genres))    \n",
    "\n",
    "print(genres)\n",
    "print(len(genres))"
   ]
  },
  {
   "cell_type": "markdown",
   "id": "f219273e",
   "metadata": {},
   "source": [
    "Few titles are assigned to one single genre. After splitting every list of genres in the dataset and checking there are only 19 different genres, we will dummify this feature with a custom function, allowing every title to check in as many genres as it has."
   ]
  },
  {
   "cell_type": "code",
   "execution_count": 16,
   "id": "72c81c3b",
   "metadata": {},
   "outputs": [
    {
     "data": {
      "text/html": [
       "<div>\n",
       "<style scoped>\n",
       "    .dataframe tbody tr th:only-of-type {\n",
       "        vertical-align: middle;\n",
       "    }\n",
       "\n",
       "    .dataframe tbody tr th {\n",
       "        vertical-align: top;\n",
       "    }\n",
       "\n",
       "    .dataframe thead th {\n",
       "        text-align: right;\n",
       "    }\n",
       "</style>\n",
       "<table border=\"1\" class=\"dataframe\">\n",
       "  <thead>\n",
       "    <tr style=\"text-align: right;\">\n",
       "      <th></th>\n",
       "      <th>train_idx</th>\n",
       "      <th>id</th>\n",
       "      <th>title</th>\n",
       "      <th>type</th>\n",
       "      <th>description</th>\n",
       "      <th>release_year</th>\n",
       "      <th>age_certification</th>\n",
       "      <th>runtime</th>\n",
       "      <th>genres</th>\n",
       "      <th>production_countries</th>\n",
       "      <th>seasons</th>\n",
       "      <th>streaming</th>\n",
       "      <th>imdb_votes</th>\n",
       "      <th>imdb_score</th>\n",
       "      <th>target</th>\n",
       "      <th>0seasons</th>\n",
       "      <th>1seasons</th>\n",
       "      <th>2+seasons</th>\n",
       "      <th>comedy</th>\n",
       "      <th>european</th>\n",
       "      <th>crime</th>\n",
       "      <th>drama</th>\n",
       "      <th>scifi</th>\n",
       "      <th>action</th>\n",
       "      <th>fantasy</th>\n",
       "      <th>animation</th>\n",
       "      <th>horror</th>\n",
       "      <th>thriller</th>\n",
       "      <th>documentation</th>\n",
       "      <th>romance</th>\n",
       "      <th>family</th>\n",
       "      <th>reality</th>\n",
       "      <th>history</th>\n",
       "      <th>music</th>\n",
       "      <th>western</th>\n",
       "      <th>sport</th>\n",
       "      <th>war</th>\n",
       "    </tr>\n",
       "  </thead>\n",
       "  <tbody>\n",
       "    <tr>\n",
       "      <th>0</th>\n",
       "      <td>0</td>\n",
       "      <td>tm164331</td>\n",
       "      <td>The Marquis</td>\n",
       "      <td>MOVIE</td>\n",
       "      <td>Thomas Gardesse, a traveling alarm systems sal...</td>\n",
       "      <td>2011</td>\n",
       "      <td>G</td>\n",
       "      <td>88</td>\n",
       "      <td>['comedy', 'european', 'crime', 'drama']</td>\n",
       "      <td>['FR']</td>\n",
       "      <td>0.0</td>\n",
       "      <td>amazon</td>\n",
       "      <td>816</td>\n",
       "      <td>4.9</td>\n",
       "      <td>3</td>\n",
       "      <td>1</td>\n",
       "      <td>0</td>\n",
       "      <td>0</td>\n",
       "      <td>1</td>\n",
       "      <td>1</td>\n",
       "      <td>1</td>\n",
       "      <td>1</td>\n",
       "      <td>0</td>\n",
       "      <td>0</td>\n",
       "      <td>0</td>\n",
       "      <td>0</td>\n",
       "      <td>0</td>\n",
       "      <td>0</td>\n",
       "      <td>0</td>\n",
       "      <td>0</td>\n",
       "      <td>0</td>\n",
       "      <td>0</td>\n",
       "      <td>0</td>\n",
       "      <td>0</td>\n",
       "      <td>0</td>\n",
       "      <td>0</td>\n",
       "      <td>0</td>\n",
       "    </tr>\n",
       "    <tr>\n",
       "      <th>1</th>\n",
       "      <td>1</td>\n",
       "      <td>ts89550</td>\n",
       "      <td>Fire Force</td>\n",
       "      <td>SHOW</td>\n",
       "      <td>Year 198 of the Solar Era in Tokyo, special fi...</td>\n",
       "      <td>2019</td>\n",
       "      <td>TV-14</td>\n",
       "      <td>24</td>\n",
       "      <td>['scifi', 'comedy', 'action', 'fantasy', 'anim...</td>\n",
       "      <td>['JP']</td>\n",
       "      <td>2.0</td>\n",
       "      <td>hulu</td>\n",
       "      <td>8621</td>\n",
       "      <td>7.6</td>\n",
       "      <td>6</td>\n",
       "      <td>0</td>\n",
       "      <td>0</td>\n",
       "      <td>1</td>\n",
       "      <td>1</td>\n",
       "      <td>0</td>\n",
       "      <td>0</td>\n",
       "      <td>1</td>\n",
       "      <td>1</td>\n",
       "      <td>1</td>\n",
       "      <td>1</td>\n",
       "      <td>1</td>\n",
       "      <td>0</td>\n",
       "      <td>0</td>\n",
       "      <td>0</td>\n",
       "      <td>0</td>\n",
       "      <td>0</td>\n",
       "      <td>0</td>\n",
       "      <td>0</td>\n",
       "      <td>0</td>\n",
       "      <td>0</td>\n",
       "      <td>0</td>\n",
       "      <td>0</td>\n",
       "    </tr>\n",
       "    <tr>\n",
       "      <th>2</th>\n",
       "      <td>2</td>\n",
       "      <td>tm79689</td>\n",
       "      <td>30 Days of Night</td>\n",
       "      <td>MOVIE</td>\n",
       "      <td>This is the story of an isolated Alaskan town ...</td>\n",
       "      <td>2007</td>\n",
       "      <td>R</td>\n",
       "      <td>113</td>\n",
       "      <td>['horror', 'thriller', 'action']</td>\n",
       "      <td>['NZ', 'US']</td>\n",
       "      <td>0.0</td>\n",
       "      <td>hulu</td>\n",
       "      <td>181869</td>\n",
       "      <td>6.6</td>\n",
       "      <td>5</td>\n",
       "      <td>1</td>\n",
       "      <td>0</td>\n",
       "      <td>0</td>\n",
       "      <td>0</td>\n",
       "      <td>0</td>\n",
       "      <td>0</td>\n",
       "      <td>0</td>\n",
       "      <td>0</td>\n",
       "      <td>1</td>\n",
       "      <td>0</td>\n",
       "      <td>0</td>\n",
       "      <td>1</td>\n",
       "      <td>1</td>\n",
       "      <td>0</td>\n",
       "      <td>0</td>\n",
       "      <td>0</td>\n",
       "      <td>0</td>\n",
       "      <td>0</td>\n",
       "      <td>0</td>\n",
       "      <td>0</td>\n",
       "      <td>0</td>\n",
       "      <td>0</td>\n",
       "    </tr>\n",
       "    <tr>\n",
       "      <th>3</th>\n",
       "      <td>3</td>\n",
       "      <td>tm372366</td>\n",
       "      <td>306 Hollywood</td>\n",
       "      <td>MOVIE</td>\n",
       "      <td>When two siblings undertake an archaeological ...</td>\n",
       "      <td>2018</td>\n",
       "      <td>NaN</td>\n",
       "      <td>94</td>\n",
       "      <td>['documentation']</td>\n",
       "      <td>['US']</td>\n",
       "      <td>0.0</td>\n",
       "      <td>amazon</td>\n",
       "      <td>307</td>\n",
       "      <td>6.8</td>\n",
       "      <td>5</td>\n",
       "      <td>1</td>\n",
       "      <td>0</td>\n",
       "      <td>0</td>\n",
       "      <td>0</td>\n",
       "      <td>0</td>\n",
       "      <td>0</td>\n",
       "      <td>0</td>\n",
       "      <td>0</td>\n",
       "      <td>0</td>\n",
       "      <td>0</td>\n",
       "      <td>0</td>\n",
       "      <td>0</td>\n",
       "      <td>0</td>\n",
       "      <td>1</td>\n",
       "      <td>0</td>\n",
       "      <td>0</td>\n",
       "      <td>0</td>\n",
       "      <td>0</td>\n",
       "      <td>0</td>\n",
       "      <td>0</td>\n",
       "      <td>0</td>\n",
       "      <td>0</td>\n",
       "    </tr>\n",
       "    <tr>\n",
       "      <th>4</th>\n",
       "      <td>4</td>\n",
       "      <td>tm60248</td>\n",
       "      <td>Child's Play</td>\n",
       "      <td>MOVIE</td>\n",
       "      <td>A single mother gives her son a beloved doll f...</td>\n",
       "      <td>1988</td>\n",
       "      <td>R</td>\n",
       "      <td>87</td>\n",
       "      <td>['horror', 'thriller', 'fantasy']</td>\n",
       "      <td>['US']</td>\n",
       "      <td>0.0</td>\n",
       "      <td>hbo</td>\n",
       "      <td>108017</td>\n",
       "      <td>6.6</td>\n",
       "      <td>5</td>\n",
       "      <td>1</td>\n",
       "      <td>0</td>\n",
       "      <td>0</td>\n",
       "      <td>0</td>\n",
       "      <td>0</td>\n",
       "      <td>0</td>\n",
       "      <td>0</td>\n",
       "      <td>0</td>\n",
       "      <td>0</td>\n",
       "      <td>1</td>\n",
       "      <td>0</td>\n",
       "      <td>1</td>\n",
       "      <td>1</td>\n",
       "      <td>0</td>\n",
       "      <td>0</td>\n",
       "      <td>0</td>\n",
       "      <td>0</td>\n",
       "      <td>0</td>\n",
       "      <td>0</td>\n",
       "      <td>0</td>\n",
       "      <td>0</td>\n",
       "      <td>0</td>\n",
       "    </tr>\n",
       "  </tbody>\n",
       "</table>\n",
       "</div>"
      ],
      "text/plain": [
       "   train_idx        id             title   type  \\\n",
       "0          0  tm164331       The Marquis  MOVIE   \n",
       "1          1   ts89550        Fire Force   SHOW   \n",
       "2          2   tm79689  30 Days of Night  MOVIE   \n",
       "3          3  tm372366     306 Hollywood  MOVIE   \n",
       "4          4   tm60248      Child's Play  MOVIE   \n",
       "\n",
       "                                         description  release_year  \\\n",
       "0  Thomas Gardesse, a traveling alarm systems sal...          2011   \n",
       "1  Year 198 of the Solar Era in Tokyo, special fi...          2019   \n",
       "2  This is the story of an isolated Alaskan town ...          2007   \n",
       "3  When two siblings undertake an archaeological ...          2018   \n",
       "4  A single mother gives her son a beloved doll f...          1988   \n",
       "\n",
       "  age_certification  runtime  \\\n",
       "0                 G       88   \n",
       "1             TV-14       24   \n",
       "2                 R      113   \n",
       "3               NaN       94   \n",
       "4                 R       87   \n",
       "\n",
       "                                              genres production_countries  \\\n",
       "0           ['comedy', 'european', 'crime', 'drama']               ['FR']   \n",
       "1  ['scifi', 'comedy', 'action', 'fantasy', 'anim...               ['JP']   \n",
       "2                   ['horror', 'thriller', 'action']         ['NZ', 'US']   \n",
       "3                                  ['documentation']               ['US']   \n",
       "4                  ['horror', 'thriller', 'fantasy']               ['US']   \n",
       "\n",
       "   seasons streaming  imdb_votes  imdb_score  target  0seasons  1seasons  \\\n",
       "0      0.0    amazon         816         4.9       3         1         0   \n",
       "1      2.0      hulu        8621         7.6       6         0         0   \n",
       "2      0.0      hulu      181869         6.6       5         1         0   \n",
       "3      0.0    amazon         307         6.8       5         1         0   \n",
       "4      0.0       hbo      108017         6.6       5         1         0   \n",
       "\n",
       "   2+seasons  comedy  european  crime  drama  scifi  action  fantasy  \\\n",
       "0          0       1         1      1      1      0       0        0   \n",
       "1          1       1         0      0      1      1       1        1   \n",
       "2          0       0         0      0      0      0       1        0   \n",
       "3          0       0         0      0      0      0       0        0   \n",
       "4          0       0         0      0      0      0       0        1   \n",
       "\n",
       "   animation  horror  thriller  documentation  romance  family  reality  \\\n",
       "0          0       0         0              0        0       0        0   \n",
       "1          1       0         0              0        0       0        0   \n",
       "2          0       1         1              0        0       0        0   \n",
       "3          0       0         0              1        0       0        0   \n",
       "4          0       1         1              0        0       0        0   \n",
       "\n",
       "   history  music  western  sport  war  \n",
       "0        0      0        0      0    0  \n",
       "1        0      0        0      0    0  \n",
       "2        0      0        0      0    0  \n",
       "3        0      0        0      0    0  \n",
       "4        0      0        0      0    0  "
      ]
     },
     "execution_count": 16,
     "metadata": {},
     "output_type": "execute_result"
    }
   ],
   "source": [
    "def fillGenres (input):\n",
    "    text = re.sub(r\"[\\'\\[\\],]\",\"\", input)\n",
    "    words = text.split()\n",
    "    match = 0\n",
    "    for word in words:\n",
    "        if word == genres[i]:\n",
    "            match += 1\n",
    "    if match > 0:\n",
    "        return 1\n",
    "    else:\n",
    "        return 0\n",
    "\n",
    "i = 0\n",
    "while i < len(genres):\n",
    "    df[genres[i]] = df[\"genres\"].apply(fillGenres)\n",
    "    i += 1\n",
    "\n",
    "pd.set_option(\"display.max_columns\", df.shape[1])\n",
    "df.head()"
   ]
  },
  {
   "cell_type": "markdown",
   "id": "0d7eb7fa",
   "metadata": {},
   "source": [
    "### Production countries"
   ]
  },
  {
   "cell_type": "code",
   "execution_count": 17,
   "id": "811890ce",
   "metadata": {},
   "outputs": [
    {
     "name": "stdout",
     "output_type": "stream",
     "text": [
      "['FR', 'JP', 'NZ', 'US', 'BR', 'CA', 'DE', 'IN', 'TR', 'PH', 'GB', 'MY', 'AU', 'KR', 'DK', 'BE', 'KE', 'IT', 'ID', 'YU', 'CN', 'TW', 'CD', 'NP', 'ES', 'SA', 'AE', 'CL', 'MX', 'CI', 'UG', 'HK', 'NL', 'UY', 'NG', 'UA', 'IS', 'SG', 'TH', 'LB', 'EG', 'JO', 'AT', 'CO', 'ZA', 'SE', 'CH', 'FI', 'AR', 'AF', 'GR', 'NO', 'DO', 'BD', 'RU', 'BG', 'PL', 'CZ', 'PR', 'MN', 'SK', 'LU', 'LV', 'PT', 'SU', 'IE', 'VN', 'IQ', 'RO', 'BS', 'KH', 'JM', 'PE', 'IL', 'SN', 'PS', 'QA', 'MA', 'XC', 'HU', 'SI', 'CU', 'CR', 'GT', 'MW', 'GH', 'TT', 'BY', 'GE', 'RW', 'IR', 'RS', 'EE', 'ZW', 'KW', 'TC', 'VE', 'KI', 'MC', 'GQ', 'TN', 'VU', 'FM', 'SB', 'CM', 'DZ', 'AN', 'HN', 'LT', 'SZ', 'SY', 'PK', 'KZ', 'BA', 'HR', 'PA', 'LI', 'EC', 'AL', 'SV', 'PY', 'TZ', 'BT', 'CS', 'BO', 'CY', 'FJ', 'PF', 'MT', 'LK', 'XK', 'BF', 'ET', 'IO', 'NC', 'GL', 'MK', 'MU']\n",
      "138\n"
     ]
    }
   ],
   "source": [
    "producers = []\n",
    "\n",
    "for x in df[\"production_countries\"]:\n",
    "    text = re.sub(r\"[\\'\\[\\],]\",\"\", x)\n",
    "    words = text.split()\n",
    "    for x in words:\n",
    "        producers.append(x)\n",
    "producers = list(dict.fromkeys(producers))    \n",
    "\n",
    "print(producers)\n",
    "print(len(producers))"
   ]
  },
  {
   "cell_type": "code",
   "execution_count": 18,
   "id": "76e85d97",
   "metadata": {},
   "outputs": [
    {
     "data": {
      "text/plain": [
       "['US']          8593\n",
       "['IN']          1320\n",
       "['GB']           899\n",
       "['JP']           558\n",
       "['CA']           431\n",
       "['KR']           279\n",
       "['FR']           219\n",
       "['ES']           195\n",
       "['AU']           183\n",
       "['GB', 'US']     168\n",
       "['MX']           157\n",
       "['CA', 'US']     148\n",
       "['IT']           139\n",
       "['NG']           129\n",
       "['DE']           119\n",
       "['BR']           115\n",
       "['CN']           103\n",
       "['US', 'CA']      99\n",
       "['US', 'GB']      93\n",
       "['PH']            75\n",
       "Name: production_countries, dtype: int64"
      ]
     },
     "execution_count": 18,
     "metadata": {},
     "output_type": "execute_result"
    }
   ],
   "source": [
    "df[\"production_countries\"].value_counts().head(20)"
   ]
  },
  {
   "cell_type": "markdown",
   "id": "fc127a1c",
   "metadata": {},
   "source": [
    "This feature is quite similar to genres, however there are 138 different producing countries in the dataset. We will dummify the feature, after reducing the number of different producing countries to the few most present, then a group for other European countries, and finally a last group with the remaining countries."
   ]
  },
  {
   "cell_type": "code",
   "execution_count": 19,
   "id": "c1636174",
   "metadata": {},
   "outputs": [
    {
     "data": {
      "text/html": [
       "<div>\n",
       "<style scoped>\n",
       "    .dataframe tbody tr th:only-of-type {\n",
       "        vertical-align: middle;\n",
       "    }\n",
       "\n",
       "    .dataframe tbody tr th {\n",
       "        vertical-align: top;\n",
       "    }\n",
       "\n",
       "    .dataframe thead th {\n",
       "        text-align: right;\n",
       "    }\n",
       "</style>\n",
       "<table border=\"1\" class=\"dataframe\">\n",
       "  <thead>\n",
       "    <tr style=\"text-align: right;\">\n",
       "      <th></th>\n",
       "      <th>train_idx</th>\n",
       "      <th>id</th>\n",
       "      <th>title</th>\n",
       "      <th>type</th>\n",
       "      <th>description</th>\n",
       "      <th>release_year</th>\n",
       "      <th>age_certification</th>\n",
       "      <th>runtime</th>\n",
       "      <th>genres</th>\n",
       "      <th>production_countries</th>\n",
       "      <th>seasons</th>\n",
       "      <th>streaming</th>\n",
       "      <th>imdb_votes</th>\n",
       "      <th>imdb_score</th>\n",
       "      <th>target</th>\n",
       "      <th>0seasons</th>\n",
       "      <th>1seasons</th>\n",
       "      <th>2+seasons</th>\n",
       "      <th>comedy</th>\n",
       "      <th>european</th>\n",
       "      <th>crime</th>\n",
       "      <th>drama</th>\n",
       "      <th>scifi</th>\n",
       "      <th>action</th>\n",
       "      <th>fantasy</th>\n",
       "      <th>animation</th>\n",
       "      <th>horror</th>\n",
       "      <th>thriller</th>\n",
       "      <th>documentation</th>\n",
       "      <th>romance</th>\n",
       "      <th>family</th>\n",
       "      <th>reality</th>\n",
       "      <th>history</th>\n",
       "      <th>music</th>\n",
       "      <th>western</th>\n",
       "      <th>sport</th>\n",
       "      <th>war</th>\n",
       "      <th>US</th>\n",
       "      <th>IN</th>\n",
       "      <th>GB</th>\n",
       "      <th>JP</th>\n",
       "      <th>CA</th>\n",
       "      <th>KR</th>\n",
       "      <th>EUR</th>\n",
       "      <th>OTHER</th>\n",
       "    </tr>\n",
       "  </thead>\n",
       "  <tbody>\n",
       "    <tr>\n",
       "      <th>0</th>\n",
       "      <td>0</td>\n",
       "      <td>tm164331</td>\n",
       "      <td>The Marquis</td>\n",
       "      <td>MOVIE</td>\n",
       "      <td>Thomas Gardesse, a traveling alarm systems sal...</td>\n",
       "      <td>2011</td>\n",
       "      <td>G</td>\n",
       "      <td>88</td>\n",
       "      <td>['comedy', 'european', 'crime', 'drama']</td>\n",
       "      <td>['FR']</td>\n",
       "      <td>0.0</td>\n",
       "      <td>amazon</td>\n",
       "      <td>816</td>\n",
       "      <td>4.9</td>\n",
       "      <td>3</td>\n",
       "      <td>1</td>\n",
       "      <td>0</td>\n",
       "      <td>0</td>\n",
       "      <td>1</td>\n",
       "      <td>1</td>\n",
       "      <td>1</td>\n",
       "      <td>1</td>\n",
       "      <td>0</td>\n",
       "      <td>0</td>\n",
       "      <td>0</td>\n",
       "      <td>0</td>\n",
       "      <td>0</td>\n",
       "      <td>0</td>\n",
       "      <td>0</td>\n",
       "      <td>0</td>\n",
       "      <td>0</td>\n",
       "      <td>0</td>\n",
       "      <td>0</td>\n",
       "      <td>0</td>\n",
       "      <td>0</td>\n",
       "      <td>0</td>\n",
       "      <td>0</td>\n",
       "      <td>0</td>\n",
       "      <td>0</td>\n",
       "      <td>0</td>\n",
       "      <td>0</td>\n",
       "      <td>0</td>\n",
       "      <td>0</td>\n",
       "      <td>1</td>\n",
       "      <td>0</td>\n",
       "    </tr>\n",
       "    <tr>\n",
       "      <th>1</th>\n",
       "      <td>1</td>\n",
       "      <td>ts89550</td>\n",
       "      <td>Fire Force</td>\n",
       "      <td>SHOW</td>\n",
       "      <td>Year 198 of the Solar Era in Tokyo, special fi...</td>\n",
       "      <td>2019</td>\n",
       "      <td>TV-14</td>\n",
       "      <td>24</td>\n",
       "      <td>['scifi', 'comedy', 'action', 'fantasy', 'anim...</td>\n",
       "      <td>['JP']</td>\n",
       "      <td>2.0</td>\n",
       "      <td>hulu</td>\n",
       "      <td>8621</td>\n",
       "      <td>7.6</td>\n",
       "      <td>6</td>\n",
       "      <td>0</td>\n",
       "      <td>0</td>\n",
       "      <td>1</td>\n",
       "      <td>1</td>\n",
       "      <td>0</td>\n",
       "      <td>0</td>\n",
       "      <td>1</td>\n",
       "      <td>1</td>\n",
       "      <td>1</td>\n",
       "      <td>1</td>\n",
       "      <td>1</td>\n",
       "      <td>0</td>\n",
       "      <td>0</td>\n",
       "      <td>0</td>\n",
       "      <td>0</td>\n",
       "      <td>0</td>\n",
       "      <td>0</td>\n",
       "      <td>0</td>\n",
       "      <td>0</td>\n",
       "      <td>0</td>\n",
       "      <td>0</td>\n",
       "      <td>0</td>\n",
       "      <td>0</td>\n",
       "      <td>0</td>\n",
       "      <td>0</td>\n",
       "      <td>1</td>\n",
       "      <td>0</td>\n",
       "      <td>0</td>\n",
       "      <td>0</td>\n",
       "      <td>0</td>\n",
       "    </tr>\n",
       "    <tr>\n",
       "      <th>2</th>\n",
       "      <td>2</td>\n",
       "      <td>tm79689</td>\n",
       "      <td>30 Days of Night</td>\n",
       "      <td>MOVIE</td>\n",
       "      <td>This is the story of an isolated Alaskan town ...</td>\n",
       "      <td>2007</td>\n",
       "      <td>R</td>\n",
       "      <td>113</td>\n",
       "      <td>['horror', 'thriller', 'action']</td>\n",
       "      <td>['NZ', 'US']</td>\n",
       "      <td>0.0</td>\n",
       "      <td>hulu</td>\n",
       "      <td>181869</td>\n",
       "      <td>6.6</td>\n",
       "      <td>5</td>\n",
       "      <td>1</td>\n",
       "      <td>0</td>\n",
       "      <td>0</td>\n",
       "      <td>0</td>\n",
       "      <td>0</td>\n",
       "      <td>0</td>\n",
       "      <td>0</td>\n",
       "      <td>0</td>\n",
       "      <td>1</td>\n",
       "      <td>0</td>\n",
       "      <td>0</td>\n",
       "      <td>1</td>\n",
       "      <td>1</td>\n",
       "      <td>0</td>\n",
       "      <td>0</td>\n",
       "      <td>0</td>\n",
       "      <td>0</td>\n",
       "      <td>0</td>\n",
       "      <td>0</td>\n",
       "      <td>0</td>\n",
       "      <td>0</td>\n",
       "      <td>0</td>\n",
       "      <td>1</td>\n",
       "      <td>0</td>\n",
       "      <td>0</td>\n",
       "      <td>0</td>\n",
       "      <td>0</td>\n",
       "      <td>0</td>\n",
       "      <td>0</td>\n",
       "      <td>1</td>\n",
       "    </tr>\n",
       "    <tr>\n",
       "      <th>3</th>\n",
       "      <td>3</td>\n",
       "      <td>tm372366</td>\n",
       "      <td>306 Hollywood</td>\n",
       "      <td>MOVIE</td>\n",
       "      <td>When two siblings undertake an archaeological ...</td>\n",
       "      <td>2018</td>\n",
       "      <td>NaN</td>\n",
       "      <td>94</td>\n",
       "      <td>['documentation']</td>\n",
       "      <td>['US']</td>\n",
       "      <td>0.0</td>\n",
       "      <td>amazon</td>\n",
       "      <td>307</td>\n",
       "      <td>6.8</td>\n",
       "      <td>5</td>\n",
       "      <td>1</td>\n",
       "      <td>0</td>\n",
       "      <td>0</td>\n",
       "      <td>0</td>\n",
       "      <td>0</td>\n",
       "      <td>0</td>\n",
       "      <td>0</td>\n",
       "      <td>0</td>\n",
       "      <td>0</td>\n",
       "      <td>0</td>\n",
       "      <td>0</td>\n",
       "      <td>0</td>\n",
       "      <td>0</td>\n",
       "      <td>1</td>\n",
       "      <td>0</td>\n",
       "      <td>0</td>\n",
       "      <td>0</td>\n",
       "      <td>0</td>\n",
       "      <td>0</td>\n",
       "      <td>0</td>\n",
       "      <td>0</td>\n",
       "      <td>0</td>\n",
       "      <td>1</td>\n",
       "      <td>0</td>\n",
       "      <td>0</td>\n",
       "      <td>0</td>\n",
       "      <td>0</td>\n",
       "      <td>0</td>\n",
       "      <td>0</td>\n",
       "      <td>0</td>\n",
       "    </tr>\n",
       "    <tr>\n",
       "      <th>4</th>\n",
       "      <td>4</td>\n",
       "      <td>tm60248</td>\n",
       "      <td>Child's Play</td>\n",
       "      <td>MOVIE</td>\n",
       "      <td>A single mother gives her son a beloved doll f...</td>\n",
       "      <td>1988</td>\n",
       "      <td>R</td>\n",
       "      <td>87</td>\n",
       "      <td>['horror', 'thriller', 'fantasy']</td>\n",
       "      <td>['US']</td>\n",
       "      <td>0.0</td>\n",
       "      <td>hbo</td>\n",
       "      <td>108017</td>\n",
       "      <td>6.6</td>\n",
       "      <td>5</td>\n",
       "      <td>1</td>\n",
       "      <td>0</td>\n",
       "      <td>0</td>\n",
       "      <td>0</td>\n",
       "      <td>0</td>\n",
       "      <td>0</td>\n",
       "      <td>0</td>\n",
       "      <td>0</td>\n",
       "      <td>0</td>\n",
       "      <td>1</td>\n",
       "      <td>0</td>\n",
       "      <td>1</td>\n",
       "      <td>1</td>\n",
       "      <td>0</td>\n",
       "      <td>0</td>\n",
       "      <td>0</td>\n",
       "      <td>0</td>\n",
       "      <td>0</td>\n",
       "      <td>0</td>\n",
       "      <td>0</td>\n",
       "      <td>0</td>\n",
       "      <td>0</td>\n",
       "      <td>1</td>\n",
       "      <td>0</td>\n",
       "      <td>0</td>\n",
       "      <td>0</td>\n",
       "      <td>0</td>\n",
       "      <td>0</td>\n",
       "      <td>0</td>\n",
       "      <td>0</td>\n",
       "    </tr>\n",
       "  </tbody>\n",
       "</table>\n",
       "</div>"
      ],
      "text/plain": [
       "   train_idx        id             title   type  \\\n",
       "0          0  tm164331       The Marquis  MOVIE   \n",
       "1          1   ts89550        Fire Force   SHOW   \n",
       "2          2   tm79689  30 Days of Night  MOVIE   \n",
       "3          3  tm372366     306 Hollywood  MOVIE   \n",
       "4          4   tm60248      Child's Play  MOVIE   \n",
       "\n",
       "                                         description  release_year  \\\n",
       "0  Thomas Gardesse, a traveling alarm systems sal...          2011   \n",
       "1  Year 198 of the Solar Era in Tokyo, special fi...          2019   \n",
       "2  This is the story of an isolated Alaskan town ...          2007   \n",
       "3  When two siblings undertake an archaeological ...          2018   \n",
       "4  A single mother gives her son a beloved doll f...          1988   \n",
       "\n",
       "  age_certification  runtime  \\\n",
       "0                 G       88   \n",
       "1             TV-14       24   \n",
       "2                 R      113   \n",
       "3               NaN       94   \n",
       "4                 R       87   \n",
       "\n",
       "                                              genres production_countries  \\\n",
       "0           ['comedy', 'european', 'crime', 'drama']               ['FR']   \n",
       "1  ['scifi', 'comedy', 'action', 'fantasy', 'anim...               ['JP']   \n",
       "2                   ['horror', 'thriller', 'action']         ['NZ', 'US']   \n",
       "3                                  ['documentation']               ['US']   \n",
       "4                  ['horror', 'thriller', 'fantasy']               ['US']   \n",
       "\n",
       "   seasons streaming  imdb_votes  imdb_score  target  0seasons  1seasons  \\\n",
       "0      0.0    amazon         816         4.9       3         1         0   \n",
       "1      2.0      hulu        8621         7.6       6         0         0   \n",
       "2      0.0      hulu      181869         6.6       5         1         0   \n",
       "3      0.0    amazon         307         6.8       5         1         0   \n",
       "4      0.0       hbo      108017         6.6       5         1         0   \n",
       "\n",
       "   2+seasons  comedy  european  crime  drama  scifi  action  fantasy  \\\n",
       "0          0       1         1      1      1      0       0        0   \n",
       "1          1       1         0      0      1      1       1        1   \n",
       "2          0       0         0      0      0      0       1        0   \n",
       "3          0       0         0      0      0      0       0        0   \n",
       "4          0       0         0      0      0      0       0        1   \n",
       "\n",
       "   animation  horror  thriller  documentation  romance  family  reality  \\\n",
       "0          0       0         0              0        0       0        0   \n",
       "1          1       0         0              0        0       0        0   \n",
       "2          0       1         1              0        0       0        0   \n",
       "3          0       0         0              1        0       0        0   \n",
       "4          0       1         1              0        0       0        0   \n",
       "\n",
       "   history  music  western  sport  war  US  IN  GB  JP  CA  KR  EUR  OTHER  \n",
       "0        0      0        0      0    0   0   0   0   0   0   0    1      0  \n",
       "1        0      0        0      0    0   0   0   0   1   0   0    0      0  \n",
       "2        0      0        0      0    0   1   0   0   0   0   0    0      1  \n",
       "3        0      0        0      0    0   1   0   0   0   0   0    0      0  \n",
       "4        0      0        0      0    0   1   0   0   0   0   0    0      0  "
      ]
     },
     "execution_count": 19,
     "metadata": {},
     "output_type": "execute_result"
    }
   ],
   "source": [
    "producersGrouped = [\"US\", \"IN\", \"GB\", \"JP\", \"CA\", \"KR\", \"EUR\", \"OTHER\"]\n",
    "producersEurope = [\"AL\", \"AT\", \"BA\", \"BE\", \"BG\", \"CH\", \"CY\", \"CZ\", \"DE\", \"DK\", \"EE\", \"ES\", \"FI\", \"FR\", \"GR\", \"HR\",\\\n",
    "                   \"HU\", \"IE\", \"IS\", \"IT\", \"LT\", \"LU\", \"LV\", \"ME\", \"MK\", \"MT\", \"NL\", \"NO\", \"PL\", \"PT\", \"RO\", \"RS\",\\\n",
    "                   \"SE\", \"SI\", \"SK\", \"YU\"]\n",
    "\n",
    "def fillProducers (input):\n",
    "    text = re.sub(r\"[\\'\\[\\],]\",\"\", input)\n",
    "    words = text.split()\n",
    "    match = 0\n",
    "    if i < 6:\n",
    "        for word in words:\n",
    "            if word == producersGrouped[i]:\n",
    "                match += 1\n",
    "        if match > 0:\n",
    "            return 1\n",
    "        else:\n",
    "            return 0\n",
    "    if i == 6:\n",
    "        for word in words:\n",
    "            if word in producersEurope:\n",
    "                match += 1\n",
    "        if match > 0:\n",
    "            return 1\n",
    "        else:\n",
    "            return 0    \n",
    "    if i == 7:\n",
    "        for word in words:\n",
    "            if word in producersGrouped or word in producersEurope:\n",
    "                match += 1\n",
    "        if len(words) > match:\n",
    "            return 1\n",
    "        else:\n",
    "            return 0                \n",
    "\n",
    "i = 0\n",
    "while i < len(producersGrouped):\n",
    "    df[producersGrouped[i]] = df[\"production_countries\"].apply(fillProducers)\n",
    "    i += 1\n",
    "\n",
    "pd.set_option(\"display.max_columns\", df.shape[1])\n",
    "df.head()"
   ]
  },
  {
   "cell_type": "markdown",
   "id": "5f47e6dc",
   "metadata": {},
   "source": [
    "### Type"
   ]
  },
  {
   "cell_type": "code",
   "execution_count": 20,
   "id": "f54144b9",
   "metadata": {},
   "outputs": [
    {
     "name": "stdout",
     "output_type": "stream",
     "text": [
      "['MOVIE' 'SHOW']\n"
     ]
    }
   ],
   "source": [
    "types = df[\"type\"].unique()\n",
    "print(types)"
   ]
  },
  {
   "cell_type": "markdown",
   "id": "18c34d01",
   "metadata": {},
   "source": [
    "There are only two types of films, so we will just dummify this feature."
   ]
  },
  {
   "cell_type": "code",
   "execution_count": 21,
   "id": "32f9d0b7",
   "metadata": {},
   "outputs": [
    {
     "data": {
      "text/plain": [
       "MOVIE    12123\n",
       "SHOW      4422\n",
       "Name: type, dtype: int64"
      ]
     },
     "execution_count": 21,
     "metadata": {},
     "output_type": "execute_result"
    }
   ],
   "source": [
    "df[\"type\"].value_counts()"
   ]
  },
  {
   "cell_type": "code",
   "execution_count": 22,
   "id": "8f4a96b1",
   "metadata": {},
   "outputs": [
    {
     "data": {
      "text/plain": [
       "MOVIE    12123\n",
       "SHOW      4422\n",
       "Name: type, dtype: int64"
      ]
     },
     "execution_count": 22,
     "metadata": {},
     "output_type": "execute_result"
    }
   ],
   "source": [
    "from sklearn.preprocessing import OneHotEncoder\n",
    "\n",
    "ohe = OneHotEncoder()\n",
    "transformed = ohe.fit_transform(df[[\"type\"]])\n",
    "df[ohe.categories_[0]] = transformed.toarray()\n",
    "df[\"type\"].value_counts()"
   ]
  },
  {
   "cell_type": "markdown",
   "id": "8b50eb05",
   "metadata": {},
   "source": [
    "### Streaming"
   ]
  },
  {
   "cell_type": "code",
   "execution_count": 23,
   "id": "355e55e5",
   "metadata": {},
   "outputs": [
    {
     "name": "stdout",
     "output_type": "stream",
     "text": [
      "['amazon' 'hulu' 'hbo' 'netflix' 'disney']\n"
     ]
    }
   ],
   "source": [
    "streaming = df[\"streaming\"].unique()\n",
    "print(streaming)"
   ]
  },
  {
   "cell_type": "markdown",
   "id": "06e5cba5",
   "metadata": {},
   "source": [
    "Same as begfore, we dummify the streaming feature as there are only five different values in the dataset."
   ]
  },
  {
   "cell_type": "code",
   "execution_count": 24,
   "id": "9416d911",
   "metadata": {},
   "outputs": [
    {
     "data": {
      "text/plain": [
       "amazon     7378\n",
       "netflix    4282\n",
       "hbo        2045\n",
       "hulu       1827\n",
       "disney     1013\n",
       "Name: streaming, dtype: int64"
      ]
     },
     "execution_count": 24,
     "metadata": {},
     "output_type": "execute_result"
    }
   ],
   "source": [
    "df[\"streaming\"].value_counts()"
   ]
  },
  {
   "cell_type": "code",
   "execution_count": 25,
   "id": "cd98e200",
   "metadata": {},
   "outputs": [
    {
     "data": {
      "text/plain": [
       "amazon  hulu  hbo  netflix  disney\n",
       "1.0     0.0   0.0  0.0      0.0       7378\n",
       "0.0     0.0   0.0  1.0      0.0       4282\n",
       "              1.0  0.0      0.0       2045\n",
       "        1.0   0.0  0.0      0.0       1827\n",
       "        0.0   0.0  0.0      1.0       1013\n",
       "dtype: int64"
      ]
     },
     "execution_count": 25,
     "metadata": {},
     "output_type": "execute_result"
    }
   ],
   "source": [
    "ohe = OneHotEncoder()\n",
    "transformed = ohe.fit_transform(df[[\"streaming\"]])\n",
    "df[ohe.categories_[0]] = transformed.toarray()\n",
    "df[streaming].value_counts()"
   ]
  },
  {
   "cell_type": "markdown",
   "id": "83cfd2d7",
   "metadata": {},
   "source": [
    "### Release year"
   ]
  },
  {
   "cell_type": "code",
   "execution_count": 26,
   "id": "296564ec",
   "metadata": {},
   "outputs": [
    {
     "data": {
      "text/plain": [
       "count    16545.000000\n",
       "mean      2008.226473\n",
       "std         20.758918\n",
       "min       1912.000000\n",
       "25%       2008.000000\n",
       "50%       2017.000000\n",
       "75%       2020.000000\n",
       "max       2023.000000\n",
       "Name: release_year, dtype: float64"
      ]
     },
     "execution_count": 26,
     "metadata": {},
     "output_type": "execute_result"
    }
   ],
   "source": [
    "df[\"release_year\"].describe()"
   ]
  },
  {
   "cell_type": "code",
   "execution_count": 27,
   "id": "c5f4d095",
   "metadata": {},
   "outputs": [
    {
     "data": {
      "image/png": "[encoded data removed]",
      "text/plain": [
       "<Figure size 640x480 with 1 Axes>"
      ]
     },
     "metadata": {},
     "output_type": "display_data"
    }
   ],
   "source": [
    "plt.hist(df[\"release_year\"], bins=111)\n",
    "plt.show;"
   ]
  },
  {
   "cell_type": "code",
   "execution_count": 28,
   "id": "f3229101",
   "metadata": {},
   "outputs": [
    {
     "data": {
      "image/png": "[encoded data removed]",
      "text/plain": [
       "<Figure size 640x480 with 1 Axes>"
      ]
     },
     "metadata": {},
     "output_type": "display_data"
    }
   ],
   "source": [
    "sns.boxplot(x=df[\"release_year\"]);"
   ]
  },
  {
   "cell_type": "markdown",
   "id": "acd4d5b0",
   "metadata": {},
   "source": [
    "As we did with seasons, we will dummify this discrete features into four groups close to its quartiles."
   ]
  },
  {
   "cell_type": "code",
   "execution_count": 29,
   "id": "aebbefdb",
   "metadata": {},
   "outputs": [],
   "source": [
    "periods = [\"2008\", \"2017\", \"2020\", \"2023\"]\n",
    "\n",
    "def fillPeriods (input):\n",
    "    if i == 0:\n",
    "        if input <= 2008:\n",
    "            return 1\n",
    "        else:\n",
    "            return 0\n",
    "    if i == 1:\n",
    "        if input > 2008 and input <= 2017:\n",
    "            return 1\n",
    "        else:\n",
    "            return 0\n",
    "    if i == 2:\n",
    "        if input > 2017 and input <= 2020:\n",
    "            return 1\n",
    "        else:\n",
    "            return 0\n",
    "    if i == 3:\n",
    "        if input > 2020:\n",
    "            return 1\n",
    "        else:\n",
    "            return 0\n",
    "    \n",
    "i = 0\n",
    "while i < len(periods):\n",
    "    df[periods[i]] = df[\"release_year\"].apply(fillPeriods)\n",
    "    i += 1"
   ]
  },
  {
   "cell_type": "markdown",
   "id": "3d5508bf",
   "metadata": {},
   "source": [
    "### IMDB votes"
   ]
  },
  {
   "cell_type": "code",
   "execution_count": 30,
   "id": "b2cbd94f",
   "metadata": {},
   "outputs": [
    {
     "data": {
      "text/plain": [
       "count    1.654500e+04\n",
       "mean     2.545551e+04\n",
       "std      1.059056e+05\n",
       "min      5.000000e+00\n",
       "25%      2.300000e+02\n",
       "50%      1.306000e+03\n",
       "75%      8.061000e+03\n",
       "max      2.706106e+06\n",
       "Name: imdb_votes, dtype: float64"
      ]
     },
     "execution_count": 30,
     "metadata": {},
     "output_type": "execute_result"
    }
   ],
   "source": [
    "df[\"imdb_votes\"].describe()"
   ]
  },
  {
   "cell_type": "code",
   "execution_count": 31,
   "id": "d3c7c2a1",
   "metadata": {},
   "outputs": [
    {
     "data": {
      "image/png": "[encoded data removed]",
      "text/plain": [
       "<Figure size 640x480 with 1 Axes>"
      ]
     },
     "metadata": {},
     "output_type": "display_data"
    }
   ],
   "source": [
    "plt.hist(df[\"imdb_votes\"], bins=100)\n",
    "plt.show;"
   ]
  },
  {
   "cell_type": "code",
   "execution_count": 32,
   "id": "ede3eafa",
   "metadata": {},
   "outputs": [
    {
     "data": {
      "image/png": "[encoded data removed]",
      "text/plain": [
       "<Figure size 640x480 with 1 Axes>"
      ]
     },
     "metadata": {},
     "output_type": "display_data"
    }
   ],
   "source": [
    "sns.boxplot(x=df[\"imdb_votes\"]);"
   ]
  },
  {
   "cell_type": "markdown",
   "id": "215dd15c",
   "metadata": {},
   "source": [
    "Another skewed feature here, with the median barely above 1k votes while the maximum value goes close to 3M. Although there are no \"half votes\", we will consider this feature as continuous."
   ]
  },
  {
   "cell_type": "markdown",
   "id": "6692247f",
   "metadata": {},
   "source": [
    "### Age certification"
   ]
  },
  {
   "cell_type": "code",
   "execution_count": 33,
   "id": "4cb8a3b7",
   "metadata": {},
   "outputs": [
    {
     "data": {
      "text/plain": [
       "R           2069\n",
       "TV-MA       1377\n",
       "PG-13       1284\n",
       "PG          1122\n",
       "TV-14       1076\n",
       "G            532\n",
       "TV-PG        510\n",
       "TV-Y7        243\n",
       "TV-G         207\n",
       "TV-Y         190\n",
       "NC-17         26\n",
       "TV-Y7-FV      10\n",
       "Name: age_certification, dtype: int64"
      ]
     },
     "execution_count": 33,
     "metadata": {},
     "output_type": "execute_result"
    }
   ],
   "source": [
    "df[\"age_certification\"].value_counts()"
   ]
  },
  {
   "cell_type": "code",
   "execution_count": 34,
   "id": "5560632b",
   "metadata": {},
   "outputs": [
    {
     "name": "stdout",
     "output_type": "stream",
     "text": [
      "                    count      mean       std  min    25%   50%   75%  max\n",
      "age_certification                                                         \n",
      "G                   532.0  6.242293  1.167803  1.4  5.500  6.30  7.10  8.8\n",
      "NC-17                26.0  6.057692  1.296819  3.1  5.425  6.05  7.00  8.4\n",
      "PG                 1122.0  6.237968  1.175282  1.3  5.500  6.30  7.10  9.3\n",
      "PG-13              1284.0  6.243224  1.147919  1.9  5.500  6.40  7.10  9.0\n",
      "R                  2069.0  6.060512  1.212205  2.1  5.400  6.20  6.90  9.4\n",
      "TV-14              1076.0  7.101208  1.121041  1.9  6.600  7.30  7.80  9.2\n",
      "TV-G                207.0  6.745894  1.047823  3.7  6.200  6.80  7.50  9.1\n",
      "TV-MA              1377.0  7.199710  0.987855  1.5  6.600  7.30  7.90  9.5\n",
      "TV-PG               510.0  7.181176  1.097433  2.8  6.700  7.40  8.00  9.6\n",
      "TV-Y                190.0  6.607368  1.214571  1.9  5.900  6.65  7.40  9.5\n",
      "TV-Y7               243.0  6.840741  1.094929  3.2  6.200  7.00  7.65  9.4\n",
      "TV-Y7-FV             10.0  6.860000  1.050079  5.4  6.125  6.80  7.40  8.6\n"
     ]
    }
   ],
   "source": [
    "age = df.groupby(\"age_certification\")\n",
    "print(age[\"imdb_score\"].describe())"
   ]
  },
  {
   "cell_type": "markdown",
   "id": "3dc11c6a",
   "metadata": {},
   "source": [
    "These categories are rather meaningless, especially for non-US residents. However there is value in them, as they clearly \"TV\" tagged ones get higher IMDB scores than the others. So we will dummify the feature after grouping the categories."
   ]
  },
  {
   "cell_type": "code",
   "execution_count": 35,
   "id": "a4fa01a8",
   "metadata": {},
   "outputs": [],
   "source": [
    "ageTV = [\"TV-14\", \"TV-G\", \"TV-MA\", \"TV-PG\", \"TV-Y\", \"TV-Y7\", \"TV-Y7-FV\"]\n",
    "ageOther = [\"G\", \"NC-17\", \"PG\", \"PG-13\", \"R\"]\n",
    "ageGroups = [\"ageTV\", \"ageOther\", \"ageNone\"]\n",
    "\n",
    "def fillAges (input):\n",
    "    if i == 0:\n",
    "        if input in ageTV:\n",
    "            return 1\n",
    "        else:\n",
    "            return 0\n",
    "    if i == 1:\n",
    "        if input in ageOther:\n",
    "            return 1\n",
    "        else:\n",
    "            return 0\n",
    "    if i == 2:\n",
    "        if input in ageTV or input in ageOther:\n",
    "            return 0\n",
    "        else:\n",
    "            return 1\n",
    "    \n",
    "i = 0\n",
    "while i < len(ageGroups):\n",
    "    df[ageGroups[i]] = df[\"age_certification\"].apply(fillAges)\n",
    "    i += 1"
   ]
  },
  {
   "cell_type": "markdown",
   "id": "f35d8315",
   "metadata": {},
   "source": [
    "### IMDB score"
   ]
  },
  {
   "cell_type": "code",
   "execution_count": 36,
   "id": "e9bbd849",
   "metadata": {},
   "outputs": [
    {
     "data": {
      "text/plain": [
       "count    16545.000000\n",
       "mean         6.342883\n",
       "std          1.288036\n",
       "min          1.100000\n",
       "25%          5.600000\n",
       "50%          6.500000\n",
       "75%          7.300000\n",
       "max         10.000000\n",
       "Name: imdb_score, dtype: float64"
      ]
     },
     "execution_count": 36,
     "metadata": {},
     "output_type": "execute_result"
    }
   ],
   "source": [
    "df[\"imdb_score\"].describe()"
   ]
  },
  {
   "cell_type": "code",
   "execution_count": 37,
   "id": "3226e09a",
   "metadata": {},
   "outputs": [
    {
     "data": {
      "image/png": "[encoded data removed]",
      "text/plain": [
       "<Figure size 640x480 with 1 Axes>"
      ]
     },
     "metadata": {},
     "output_type": "display_data"
    }
   ],
   "source": [
    "plt.hist(df[\"imdb_score\"], bins=10)\n",
    "plt.show;"
   ]
  },
  {
   "cell_type": "code",
   "execution_count": 38,
   "id": "7c81eea3",
   "metadata": {},
   "outputs": [
    {
     "data": {
      "image/png": "[encoded data removed]",
      "text/plain": [
       "<Figure size 640x480 with 1 Axes>"
      ]
     },
     "metadata": {},
     "output_type": "display_data"
    }
   ],
   "source": [
    "sns.boxplot(x=df[\"imdb_score\"]);"
   ]
  },
  {
   "cell_type": "markdown",
   "id": "f96dd155",
   "metadata": {},
   "source": [
    "### Target"
   ]
  },
  {
   "cell_type": "code",
   "execution_count": 39,
   "id": "9dae80f4",
   "metadata": {},
   "outputs": [
    {
     "data": {
      "text/plain": [
       "count    16545.000000\n",
       "mean         4.895678\n",
       "std          1.321549\n",
       "min          0.000000\n",
       "25%          4.000000\n",
       "50%          5.000000\n",
       "75%          6.000000\n",
       "max          8.000000\n",
       "Name: target, dtype: float64"
      ]
     },
     "execution_count": 39,
     "metadata": {},
     "output_type": "execute_result"
    }
   ],
   "source": [
    "df[\"target\"].describe()"
   ]
  },
  {
   "cell_type": "code",
   "execution_count": 40,
   "id": "0a5b3094",
   "metadata": {},
   "outputs": [
    {
     "data": {
      "image/png": "[encoded data removed]",
      "text/plain": [
       "<Figure size 640x480 with 1 Axes>"
      ]
     },
     "metadata": {},
     "output_type": "display_data"
    }
   ],
   "source": [
    "plt.hist(df[\"target\"], bins=9)\n",
    "plt.show;"
   ]
  },
  {
   "cell_type": "code",
   "execution_count": 41,
   "id": "fe893169",
   "metadata": {},
   "outputs": [
    {
     "data": {
      "image/png": "[encoded data removed]",
      "text/plain": [
       "<Figure size 640x480 with 1 Axes>"
      ]
     },
     "metadata": {},
     "output_type": "display_data"
    }
   ],
   "source": [
    "sns.boxplot(x=df[\"target\"]);"
   ]
  },
  {
   "cell_type": "markdown",
   "id": "3ad391dd",
   "metadata": {},
   "source": [
    "## 2. Bringing features fomr the Credits dataset"
   ]
  },
  {
   "cell_type": "code",
   "execution_count": 42,
   "id": "dcc48c1a",
   "metadata": {},
   "outputs": [
    {
     "name": "stdout",
     "output_type": "stream",
     "text": [
      "<class 'pandas.core.frame.DataFrame'>\n",
      "RangeIndex: 258488 entries, 0 to 258487\n",
      "Data columns (total 6 columns):\n",
      " #   Column      Non-Null Count   Dtype \n",
      "---  ------      --------------   ----- \n",
      " 0   Unnamed: 0  258488 non-null  int64 \n",
      " 1   person_id   258488 non-null  int64 \n",
      " 2   id          258488 non-null  object\n",
      " 3   name        258488 non-null  object\n",
      " 4   character   233035 non-null  object\n",
      " 5   role        258488 non-null  object\n",
      "dtypes: int64(2), object(4)\n",
      "memory usage: 11.8+ MB\n"
     ]
    }
   ],
   "source": [
    "credits = pd.read_csv(\"train_credits.csv\")\n",
    "credits.info()"
   ]
  },
  {
   "cell_type": "code",
   "execution_count": 43,
   "id": "8028d500",
   "metadata": {},
   "outputs": [
    {
     "data": {
      "text/plain": [
       "False    258488\n",
       "dtype: int64"
      ]
     },
     "execution_count": 43,
     "metadata": {},
     "output_type": "execute_result"
    }
   ],
   "source": [
    "credits.duplicated().value_counts()"
   ]
  },
  {
   "cell_type": "code",
   "execution_count": 44,
   "id": "416ab56d",
   "metadata": {},
   "outputs": [
    {
     "data": {
      "text/html": [
       "<div>\n",
       "<style scoped>\n",
       "    .dataframe tbody tr th:only-of-type {\n",
       "        vertical-align: middle;\n",
       "    }\n",
       "\n",
       "    .dataframe tbody tr th {\n",
       "        vertical-align: top;\n",
       "    }\n",
       "\n",
       "    .dataframe thead th {\n",
       "        text-align: right;\n",
       "    }\n",
       "</style>\n",
       "<table border=\"1\" class=\"dataframe\">\n",
       "  <thead>\n",
       "    <tr style=\"text-align: right;\">\n",
       "      <th></th>\n",
       "      <th>Unnamed: 0</th>\n",
       "      <th>person_id</th>\n",
       "      <th>id</th>\n",
       "      <th>name</th>\n",
       "      <th>character</th>\n",
       "      <th>role</th>\n",
       "    </tr>\n",
       "  </thead>\n",
       "  <tbody>\n",
       "    <tr>\n",
       "      <th>0</th>\n",
       "      <td>0</td>\n",
       "      <td>25020</td>\n",
       "      <td>tm87233</td>\n",
       "      <td>James Stewart</td>\n",
       "      <td>George Bailey</td>\n",
       "      <td>ACTOR</td>\n",
       "    </tr>\n",
       "    <tr>\n",
       "      <th>1</th>\n",
       "      <td>1</td>\n",
       "      <td>26190</td>\n",
       "      <td>tm87233</td>\n",
       "      <td>Donna Reed</td>\n",
       "      <td>Mary Hatch</td>\n",
       "      <td>ACTOR</td>\n",
       "    </tr>\n",
       "    <tr>\n",
       "      <th>2</th>\n",
       "      <td>2</td>\n",
       "      <td>25653</td>\n",
       "      <td>tm87233</td>\n",
       "      <td>Lionel Barrymore</td>\n",
       "      <td>Mr. Potter</td>\n",
       "      <td>ACTOR</td>\n",
       "    </tr>\n",
       "    <tr>\n",
       "      <th>3</th>\n",
       "      <td>3</td>\n",
       "      <td>13301</td>\n",
       "      <td>tm87233</td>\n",
       "      <td>Thomas Mitchell</td>\n",
       "      <td>Uncle Billy</td>\n",
       "      <td>ACTOR</td>\n",
       "    </tr>\n",
       "    <tr>\n",
       "      <th>4</th>\n",
       "      <td>4</td>\n",
       "      <td>34171</td>\n",
       "      <td>tm87233</td>\n",
       "      <td>Henry Travers</td>\n",
       "      <td>Clarence</td>\n",
       "      <td>ACTOR</td>\n",
       "    </tr>\n",
       "  </tbody>\n",
       "</table>\n",
       "</div>"
      ],
      "text/plain": [
       "   Unnamed: 0  person_id       id              name      character   role\n",
       "0           0      25020  tm87233     James Stewart  George Bailey  ACTOR\n",
       "1           1      26190  tm87233        Donna Reed     Mary Hatch  ACTOR\n",
       "2           2      25653  tm87233  Lionel Barrymore     Mr. Potter  ACTOR\n",
       "3           3      13301  tm87233   Thomas Mitchell    Uncle Billy  ACTOR\n",
       "4           4      34171  tm87233     Henry Travers       Clarence  ACTOR"
      ]
     },
     "execution_count": 44,
     "metadata": {},
     "output_type": "execute_result"
    }
   ],
   "source": [
    "credits.head()"
   ]
  },
  {
   "cell_type": "code",
   "execution_count": 45,
   "id": "87625cab",
   "metadata": {},
   "outputs": [],
   "source": [
    "credits[\"person_id\"] = credits[\"person_id\"].astype(str)"
   ]
  },
  {
   "cell_type": "markdown",
   "id": "7a714c79",
   "metadata": {},
   "source": [
    "Our goal is to merge the data on the director of every movie into the main dataset, then find the average IMDB score of every director and feed this new feature into the model too."
   ]
  },
  {
   "cell_type": "code",
   "execution_count": 46,
   "id": "3663a229",
   "metadata": {},
   "outputs": [
    {
     "data": {
      "text/plain": [
       "ACTOR       244812\n",
       "DIRECTOR     13676\n",
       "Name: role, dtype: int64"
      ]
     },
     "execution_count": 46,
     "metadata": {},
     "output_type": "execute_result"
    }
   ],
   "source": [
    "credits[\"role\"].value_counts()"
   ]
  },
  {
   "cell_type": "code",
   "execution_count": 47,
   "id": "b110b5db",
   "metadata": {},
   "outputs": [
    {
     "data": {
      "text/plain": [
       "Joseph Kane                    31\n",
       "Sam Newfield                   29\n",
       "Jay Chapman                    25\n",
       "Jay Karas                      22\n",
       "Ryan Polito                    19\n",
       "                               ..\n",
       "Brando Keoni Bowthorpe          1\n",
       "Aurélien Vernhes-Lermusiaux     1\n",
       "Marco Castillo                  1\n",
       "Barbara Topsøe-Rothenborg       1\n",
       "Rahul V. Chittella              1\n",
       "Name: name, Length: 9326, dtype: int64"
      ]
     },
     "execution_count": 47,
     "metadata": {},
     "output_type": "execute_result"
    }
   ],
   "source": [
    "credits[\"name\"][credits[\"role\"] == \"DIRECTOR\"].value_counts()"
   ]
  },
  {
   "cell_type": "code",
   "execution_count": 48,
   "id": "f694b4d0",
   "metadata": {},
   "outputs": [
    {
     "data": {
      "text/html": [
       "<div>\n",
       "<style scoped>\n",
       "    .dataframe tbody tr th:only-of-type {\n",
       "        vertical-align: middle;\n",
       "    }\n",
       "\n",
       "    .dataframe tbody tr th {\n",
       "        vertical-align: top;\n",
       "    }\n",
       "\n",
       "    .dataframe thead th {\n",
       "        text-align: right;\n",
       "    }\n",
       "</style>\n",
       "<table border=\"1\" class=\"dataframe\">\n",
       "  <thead>\n",
       "    <tr style=\"text-align: right;\">\n",
       "      <th></th>\n",
       "      <th>id</th>\n",
       "      <th>person_id</th>\n",
       "      <th>name</th>\n",
       "    </tr>\n",
       "  </thead>\n",
       "  <tbody>\n",
       "    <tr>\n",
       "      <th>115</th>\n",
       "      <td>tm87233</td>\n",
       "      <td>20177</td>\n",
       "      <td>Frank Capra</td>\n",
       "    </tr>\n",
       "    <tr>\n",
       "      <th>138</th>\n",
       "      <td>tm19248</td>\n",
       "      <td>28732</td>\n",
       "      <td>Clyde Bruckman</td>\n",
       "    </tr>\n",
       "    <tr>\n",
       "      <th>139</th>\n",
       "      <td>tm19248</td>\n",
       "      <td>21174</td>\n",
       "      <td>Buster Keaton</td>\n",
       "    </tr>\n",
       "    <tr>\n",
       "      <th>170</th>\n",
       "      <td>tm82253</td>\n",
       "      <td>13717</td>\n",
       "      <td>William Wyler</td>\n",
       "    </tr>\n",
       "    <tr>\n",
       "      <th>191</th>\n",
       "      <td>tm38206</td>\n",
       "      <td>155568</td>\n",
       "      <td>Thornton Freeland</td>\n",
       "    </tr>\n",
       "  </tbody>\n",
       "</table>\n",
       "</div>"
      ],
      "text/plain": [
       "          id person_id               name\n",
       "115  tm87233     20177        Frank Capra\n",
       "138  tm19248     28732     Clyde Bruckman\n",
       "139  tm19248     21174      Buster Keaton\n",
       "170  tm82253     13717      William Wyler\n",
       "191  tm38206    155568  Thornton Freeland"
      ]
     },
     "execution_count": 48,
     "metadata": {},
     "output_type": "execute_result"
    }
   ],
   "source": [
    "directors = credits[[\"id\", \"person_id\", \"name\"]][credits[\"role\"] == \"DIRECTOR\"]\n",
    "directors.head()"
   ]
  },
  {
   "cell_type": "code",
   "execution_count": 49,
   "id": "b919f134",
   "metadata": {},
   "outputs": [
    {
     "data": {
      "text/plain": [
       "(13676, 3)"
      ]
     },
     "execution_count": 49,
     "metadata": {},
     "output_type": "execute_result"
    }
   ],
   "source": [
    "directors.shape"
   ]
  },
  {
   "cell_type": "code",
   "execution_count": 50,
   "id": "5b86c481",
   "metadata": {},
   "outputs": [
    {
     "data": {
      "text/plain": [
       "tm160587     31\n",
       "tm317518     18\n",
       "tm1251373    12\n",
       "tm145050     12\n",
       "tm74391      12\n",
       "             ..\n",
       "tm289943      1\n",
       "tm373283      1\n",
       "tm446877      1\n",
       "tm1264268     1\n",
       "tm1306464     1\n",
       "Name: id, Length: 11994, dtype: int64"
      ]
     },
     "execution_count": 50,
     "metadata": {},
     "output_type": "execute_result"
    }
   ],
   "source": [
    "directors[\"id\"].value_counts()"
   ]
  },
  {
   "cell_type": "code",
   "execution_count": 51,
   "id": "5deb8acd",
   "metadata": {},
   "outputs": [
    {
     "data": {
      "text/html": [
       "<div>\n",
       "<style scoped>\n",
       "    .dataframe tbody tr th:only-of-type {\n",
       "        vertical-align: middle;\n",
       "    }\n",
       "\n",
       "    .dataframe tbody tr th {\n",
       "        vertical-align: top;\n",
       "    }\n",
       "\n",
       "    .dataframe thead th {\n",
       "        text-align: right;\n",
       "    }\n",
       "</style>\n",
       "<table border=\"1\" class=\"dataframe\">\n",
       "  <thead>\n",
       "    <tr style=\"text-align: right;\">\n",
       "      <th></th>\n",
       "      <th>Unnamed: 0</th>\n",
       "      <th>person_id</th>\n",
       "      <th>id</th>\n",
       "      <th>name</th>\n",
       "      <th>character</th>\n",
       "      <th>role</th>\n",
       "    </tr>\n",
       "  </thead>\n",
       "  <tbody>\n",
       "    <tr>\n",
       "      <th>103202</th>\n",
       "      <td>103202</td>\n",
       "      <td>23433</td>\n",
       "      <td>tm74391</td>\n",
       "      <td>Deems Taylor</td>\n",
       "      <td>Narrator - Narrative Introductions</td>\n",
       "      <td>ACTOR</td>\n",
       "    </tr>\n",
       "    <tr>\n",
       "      <th>103203</th>\n",
       "      <td>103203</td>\n",
       "      <td>5910</td>\n",
       "      <td>tm74391</td>\n",
       "      <td>Walt Disney</td>\n",
       "      <td>Mickey Mouse (segment 'The Sorcerer's Apprenti...</td>\n",
       "      <td>ACTOR</td>\n",
       "    </tr>\n",
       "    <tr>\n",
       "      <th>103204</th>\n",
       "      <td>103204</td>\n",
       "      <td>23436</td>\n",
       "      <td>tm74391</td>\n",
       "      <td>Julietta Novis</td>\n",
       "      <td>Soloist (segment 'Ave Maria') (singing voice)</td>\n",
       "      <td>ACTOR</td>\n",
       "    </tr>\n",
       "    <tr>\n",
       "      <th>103205</th>\n",
       "      <td>103205</td>\n",
       "      <td>23434</td>\n",
       "      <td>tm74391</td>\n",
       "      <td>Leopold Stokowski</td>\n",
       "      <td>Himself - Conductor of The Philadelphia Orchestra</td>\n",
       "      <td>ACTOR</td>\n",
       "    </tr>\n",
       "    <tr>\n",
       "      <th>103206</th>\n",
       "      <td>103206</td>\n",
       "      <td>23441</td>\n",
       "      <td>tm74391</td>\n",
       "      <td>Paul Satterfield</td>\n",
       "      <td>NaN</td>\n",
       "      <td>DIRECTOR</td>\n",
       "    </tr>\n",
       "    <tr>\n",
       "      <th>103207</th>\n",
       "      <td>103207</td>\n",
       "      <td>23442</td>\n",
       "      <td>tm74391</td>\n",
       "      <td>Hamilton Luske</td>\n",
       "      <td>NaN</td>\n",
       "      <td>DIRECTOR</td>\n",
       "    </tr>\n",
       "    <tr>\n",
       "      <th>103208</th>\n",
       "      <td>103208</td>\n",
       "      <td>23443</td>\n",
       "      <td>tm74391</td>\n",
       "      <td>Jim Handley</td>\n",
       "      <td>NaN</td>\n",
       "      <td>DIRECTOR</td>\n",
       "    </tr>\n",
       "    <tr>\n",
       "      <th>103209</th>\n",
       "      <td>103209</td>\n",
       "      <td>6164</td>\n",
       "      <td>tm74391</td>\n",
       "      <td>Ford Beebe</td>\n",
       "      <td>NaN</td>\n",
       "      <td>DIRECTOR</td>\n",
       "    </tr>\n",
       "    <tr>\n",
       "      <th>103210</th>\n",
       "      <td>103210</td>\n",
       "      <td>23444</td>\n",
       "      <td>tm74391</td>\n",
       "      <td>T. Hee</td>\n",
       "      <td>NaN</td>\n",
       "      <td>DIRECTOR</td>\n",
       "    </tr>\n",
       "    <tr>\n",
       "      <th>103211</th>\n",
       "      <td>103211</td>\n",
       "      <td>23446</td>\n",
       "      <td>tm74391</td>\n",
       "      <td>Wilfred Jackson</td>\n",
       "      <td>NaN</td>\n",
       "      <td>DIRECTOR</td>\n",
       "    </tr>\n",
       "    <tr>\n",
       "      <th>103212</th>\n",
       "      <td>103212</td>\n",
       "      <td>23440</td>\n",
       "      <td>tm74391</td>\n",
       "      <td>William Roberts</td>\n",
       "      <td>NaN</td>\n",
       "      <td>DIRECTOR</td>\n",
       "    </tr>\n",
       "    <tr>\n",
       "      <th>103213</th>\n",
       "      <td>103213</td>\n",
       "      <td>13776</td>\n",
       "      <td>tm74391</td>\n",
       "      <td>Ben Sharpsteen</td>\n",
       "      <td>NaN</td>\n",
       "      <td>DIRECTOR</td>\n",
       "    </tr>\n",
       "    <tr>\n",
       "      <th>103214</th>\n",
       "      <td>103214</td>\n",
       "      <td>23438</td>\n",
       "      <td>tm74391</td>\n",
       "      <td>James Algar</td>\n",
       "      <td>NaN</td>\n",
       "      <td>DIRECTOR</td>\n",
       "    </tr>\n",
       "    <tr>\n",
       "      <th>103215</th>\n",
       "      <td>103215</td>\n",
       "      <td>23437</td>\n",
       "      <td>tm74391</td>\n",
       "      <td>Samuel Armstrong</td>\n",
       "      <td>NaN</td>\n",
       "      <td>DIRECTOR</td>\n",
       "    </tr>\n",
       "    <tr>\n",
       "      <th>103216</th>\n",
       "      <td>103216</td>\n",
       "      <td>23445</td>\n",
       "      <td>tm74391</td>\n",
       "      <td>Norman Ferguson</td>\n",
       "      <td>NaN</td>\n",
       "      <td>DIRECTOR</td>\n",
       "    </tr>\n",
       "    <tr>\n",
       "      <th>103217</th>\n",
       "      <td>103217</td>\n",
       "      <td>6147</td>\n",
       "      <td>tm74391</td>\n",
       "      <td>David Hand</td>\n",
       "      <td>NaN</td>\n",
       "      <td>DIRECTOR</td>\n",
       "    </tr>\n",
       "  </tbody>\n",
       "</table>\n",
       "</div>"
      ],
      "text/plain": [
       "        Unnamed: 0 person_id       id               name  \\\n",
       "103202      103202     23433  tm74391       Deems Taylor   \n",
       "103203      103203      5910  tm74391        Walt Disney   \n",
       "103204      103204     23436  tm74391     Julietta Novis   \n",
       "103205      103205     23434  tm74391  Leopold Stokowski   \n",
       "103206      103206     23441  tm74391   Paul Satterfield   \n",
       "103207      103207     23442  tm74391     Hamilton Luske   \n",
       "103208      103208     23443  tm74391        Jim Handley   \n",
       "103209      103209      6164  tm74391         Ford Beebe   \n",
       "103210      103210     23444  tm74391             T. Hee   \n",
       "103211      103211     23446  tm74391    Wilfred Jackson   \n",
       "103212      103212     23440  tm74391    William Roberts   \n",
       "103213      103213     13776  tm74391     Ben Sharpsteen   \n",
       "103214      103214     23438  tm74391        James Algar   \n",
       "103215      103215     23437  tm74391   Samuel Armstrong   \n",
       "103216      103216     23445  tm74391    Norman Ferguson   \n",
       "103217      103217      6147  tm74391         David Hand   \n",
       "\n",
       "                                                character      role  \n",
       "103202                 Narrator - Narrative Introductions     ACTOR  \n",
       "103203  Mickey Mouse (segment 'The Sorcerer's Apprenti...     ACTOR  \n",
       "103204      Soloist (segment 'Ave Maria') (singing voice)     ACTOR  \n",
       "103205  Himself - Conductor of The Philadelphia Orchestra     ACTOR  \n",
       "103206                                                NaN  DIRECTOR  \n",
       "103207                                                NaN  DIRECTOR  \n",
       "103208                                                NaN  DIRECTOR  \n",
       "103209                                                NaN  DIRECTOR  \n",
       "103210                                                NaN  DIRECTOR  \n",
       "103211                                                NaN  DIRECTOR  \n",
       "103212                                                NaN  DIRECTOR  \n",
       "103213                                                NaN  DIRECTOR  \n",
       "103214                                                NaN  DIRECTOR  \n",
       "103215                                                NaN  DIRECTOR  \n",
       "103216                                                NaN  DIRECTOR  \n",
       "103217                                                NaN  DIRECTOR  "
      ]
     },
     "execution_count": 51,
     "metadata": {},
     "output_type": "execute_result"
    }
   ],
   "source": [
    "credits[credits[\"id\"] == \"tm74391\"].head(30)"
   ]
  },
  {
   "cell_type": "markdown",
   "id": "53ec6898",
   "metadata": {},
   "source": [
    "While one would expect the films to have one director only (or at least for movies, maybe not for shows), this is not the case. So when there is more than one director, as we cannot manually choose which one is the \"good\" one, we'll rather tag these films as having unknown director."
   ]
  },
  {
   "cell_type": "code",
   "execution_count": 52,
   "id": "8a4396df",
   "metadata": {},
   "outputs": [
    {
     "data": {
      "text/plain": [
       "(10690, 3)"
      ]
     },
     "execution_count": 52,
     "metadata": {},
     "output_type": "execute_result"
    }
   ],
   "source": [
    "directors.drop_duplicates(subset=\"id\", keep=False, inplace=True, ignore_index=True)\n",
    "directors.shape"
   ]
  },
  {
   "cell_type": "code",
   "execution_count": 53,
   "id": "130e1d58",
   "metadata": {},
   "outputs": [
    {
     "data": {
      "text/plain": [
       "(16545, 61)"
      ]
     },
     "execution_count": 53,
     "metadata": {},
     "output_type": "execute_result"
    }
   ],
   "source": [
    "df = pd.merge(df, directors, how=\"left\", on=\"id\")\n",
    "df.shape"
   ]
  },
  {
   "cell_type": "code",
   "execution_count": 54,
   "id": "bb8cf9e0",
   "metadata": {},
   "outputs": [
    {
     "data": {
      "text/plain": [
       "unknown    5855\n",
       "151608       31\n",
       "124433       29\n",
       "56729        21\n",
       "159658       18\n",
       "           ... \n",
       "275848        1\n",
       "240070        1\n",
       "52236         1\n",
       "357930        1\n",
       "154099        1\n",
       "Name: person_id, Length: 7576, dtype: int64"
      ]
     },
     "execution_count": 54,
     "metadata": {},
     "output_type": "execute_result"
    }
   ],
   "source": [
    "df[\"person_id\"].fillna(\"unknown\", inplace=True)\n",
    "df[\"person_id\"].value_counts()"
   ]
  },
  {
   "cell_type": "markdown",
   "id": "0aeb1e7d",
   "metadata": {},
   "source": [
    "With every film in the main dataset now having either one single director or an unknown one, we can now find their average IMDB scores."
   ]
  },
  {
   "cell_type": "code",
   "execution_count": 55,
   "id": "87a9b7cc",
   "metadata": {},
   "outputs": [
    {
     "data": {
      "text/plain": [
       "count    16545.000000\n",
       "mean         6.342883\n",
       "std          0.985906\n",
       "min          1.100000\n",
       "25%          5.900000\n",
       "50%          6.750179\n",
       "75%          6.750179\n",
       "max          9.600000\n",
       "Name: director_score, dtype: float64"
      ]
     },
     "execution_count": 55,
     "metadata": {},
     "output_type": "execute_result"
    }
   ],
   "source": [
    "def getScore (input):\n",
    "    return df[\"imdb_score\"][df[\"person_id\"] == input].mean() \n",
    "\n",
    "df[\"director_score\"] = df[\"person_id\"].apply(getScore)\n",
    "df[\"director_score\"].describe()"
   ]
  },
  {
   "cell_type": "code",
   "execution_count": 56,
   "id": "93e1ceab",
   "metadata": {},
   "outputs": [
    {
     "data": {
      "image/png": "[encoded data removed]",
      "text/plain": [
       "<Figure size 640x480 with 1 Axes>"
      ]
     },
     "metadata": {},
     "output_type": "display_data"
    }
   ],
   "source": [
    "plt.hist(df[\"director_score\"], bins = 30)\n",
    "plt.show;"
   ]
  },
  {
   "cell_type": "markdown",
   "id": "63b137b8",
   "metadata": {},
   "source": [
    "We will also prepare a dictionary with every director score that we'll later check to fill this information in the test dataset."
   ]
  },
  {
   "cell_type": "code",
   "execution_count": 57,
   "id": "5a9f0366",
   "metadata": {},
   "outputs": [
    {
     "name": "stdout",
     "output_type": "stream",
     "text": [
      "7576\n"
     ]
    }
   ],
   "source": [
    "directorScores = pd.Series(df[\"director_score\"].values, index=df[\"person_id\"]).to_dict()\n",
    "print(len(directorScores))"
   ]
  },
  {
   "cell_type": "markdown",
   "id": "e42a77d1",
   "metadata": {},
   "source": [
    "## 3. Transformations\n",
    "\n",
    "With most features being categorical or discrete, which have been dummified before, the only transformation left it to bring the ranges of the numerical ones closer. As they all have outlier values, this will be done with the Robust Scaler transformer."
   ]
  },
  {
   "cell_type": "code",
   "execution_count": 58,
   "id": "a9c856b9",
   "metadata": {},
   "outputs": [
    {
     "data": {
      "text/html": [
       "<div>\n",
       "<style scoped>\n",
       "    .dataframe tbody tr th:only-of-type {\n",
       "        vertical-align: middle;\n",
       "    }\n",
       "\n",
       "    .dataframe tbody tr th {\n",
       "        vertical-align: top;\n",
       "    }\n",
       "\n",
       "    .dataframe thead th {\n",
       "        text-align: right;\n",
       "    }\n",
       "</style>\n",
       "<table border=\"1\" class=\"dataframe\">\n",
       "  <thead>\n",
       "    <tr style=\"text-align: right;\">\n",
       "      <th></th>\n",
       "      <th>runtimeSC</th>\n",
       "      <th>imdb_votesSC</th>\n",
       "      <th>director_scoreSC</th>\n",
       "    </tr>\n",
       "  </thead>\n",
       "  <tbody>\n",
       "    <tr>\n",
       "      <th>count</th>\n",
       "      <td>16545.000000</td>\n",
       "      <td>16545.000000</td>\n",
       "      <td>16545.000000</td>\n",
       "    </tr>\n",
       "    <tr>\n",
       "      <th>mean</th>\n",
       "      <td>-0.128004</td>\n",
       "      <td>3.083835</td>\n",
       "      <td>-0.479071</td>\n",
       "    </tr>\n",
       "    <tr>\n",
       "      <th>std</th>\n",
       "      <td>0.702695</td>\n",
       "      <td>13.523894</td>\n",
       "      <td>1.159645</td>\n",
       "    </tr>\n",
       "    <tr>\n",
       "      <th>min</th>\n",
       "      <td>-1.725490</td>\n",
       "      <td>-0.166135</td>\n",
       "      <td>-6.645868</td>\n",
       "    </tr>\n",
       "    <tr>\n",
       "      <th>25%</th>\n",
       "      <td>-0.686275</td>\n",
       "      <td>-0.137403</td>\n",
       "      <td>-1.000000</td>\n",
       "    </tr>\n",
       "    <tr>\n",
       "      <th>50%</th>\n",
       "      <td>0.000000</td>\n",
       "      <td>0.000000</td>\n",
       "      <td>0.000000</td>\n",
       "    </tr>\n",
       "    <tr>\n",
       "      <th>75%</th>\n",
       "      <td>0.313725</td>\n",
       "      <td>0.862597</td>\n",
       "      <td>0.000000</td>\n",
       "    </tr>\n",
       "    <tr>\n",
       "      <th>max</th>\n",
       "      <td>4.705882</td>\n",
       "      <td>345.396501</td>\n",
       "      <td>3.352023</td>\n",
       "    </tr>\n",
       "  </tbody>\n",
       "</table>\n",
       "</div>"
      ],
      "text/plain": [
       "          runtimeSC  imdb_votesSC  director_scoreSC\n",
       "count  16545.000000  16545.000000      16545.000000\n",
       "mean      -0.128004      3.083835         -0.479071\n",
       "std        0.702695     13.523894          1.159645\n",
       "min       -1.725490     -0.166135         -6.645868\n",
       "25%       -0.686275     -0.137403         -1.000000\n",
       "50%        0.000000      0.000000          0.000000\n",
       "75%        0.313725      0.862597          0.000000\n",
       "max        4.705882    345.396501          3.352023"
      ]
     },
     "execution_count": 58,
     "metadata": {},
     "output_type": "execute_result"
    }
   ],
   "source": [
    "from sklearn.preprocessing import RobustScaler\n",
    "\n",
    "scaler = RobustScaler()\n",
    "df[[\"runtimeSC\", \"imdb_votesSC\", \"director_scoreSC\"]] = scaler.fit_transform(df[[\"runtime\", \"imdb_votes\", \"director_score\"]])\n",
    "df[[\"runtimeSC\", \"imdb_votesSC\", \"director_scoreSC\"]].describe()"
   ]
  },
  {
   "cell_type": "code",
   "execution_count": 59,
   "id": "ca15534e",
   "metadata": {},
   "outputs": [
    {
     "data": {
      "image/png": "[encoded data removed]",
      "text/plain": [
       "<Figure size 640x480 with 2 Axes>"
      ]
     },
     "metadata": {},
     "output_type": "display_data"
    }
   ],
   "source": [
    "sns.heatmap(df[[\"runtimeSC\", \"imdb_votesSC\", \"director_scoreSC\", \"imdb_score\"]].corr().round(2), annot=True);"
   ]
  },
  {
   "cell_type": "markdown",
   "id": "705b0163",
   "metadata": {},
   "source": [
    "We can also see how the average scoring of the directors is very relevant to the IMDB score of each film."
   ]
  },
  {
   "cell_type": "markdown",
   "id": "c1167d4c",
   "metadata": {},
   "source": [
    "## 4. Defining the train, test and validation subsets\n",
    "We will keep 10% of the lines for validation, then split the remaining ones into 80% for training and 20% for testing."
   ]
  },
  {
   "cell_type": "code",
   "execution_count": 60,
   "id": "3ef7bc94",
   "metadata": {},
   "outputs": [
    {
     "name": "stdout",
     "output_type": "stream",
     "text": [
      "Subset: (Lines, Columns)\n",
      "X_main:  (14890, 47) \n",
      "y_main:  (14890, 1) \n",
      "X_val:  (1655, 47) \n",
      "y_val:  (1655, 1)\n"
     ]
    }
   ],
   "source": [
    "from sklearn.model_selection import train_test_split\n",
    "\n",
    "X = df[[*types, *periods, \"runtimeSC\", *genres, *producersGrouped, *seasons, *streaming, *ageGroups, \"imdb_votesSC\", \"director_scoreSC\"]]\n",
    "y = df[[\"imdb_score\"]]\n",
    "\n",
    "X_main, X_val, y_main, y_val = train_test_split(X, y, test_size=0.1, random_state=10)\n",
    "print(\"Subset: (Lines, Columns)\")\n",
    "print(\"X_main: \", X_main.shape, \"\\ny_main: \", y_main.shape, \"\\nX_val: \", X_val.shape, \"\\ny_val: \", y_val.shape)"
   ]
  },
  {
   "cell_type": "code",
   "execution_count": 61,
   "id": "f55a51ca",
   "metadata": {},
   "outputs": [
    {
     "name": "stdout",
     "output_type": "stream",
     "text": [
      "Subset: (Lines, Columns)\n",
      "X_train:  (11912, 47) \n",
      "y_train:  (11912, 1) \n",
      "X_test:  (2978, 47) \n",
      "y_test:  (2978, 1)\n"
     ]
    }
   ],
   "source": [
    "X_train, X_test, y_train, y_test = train_test_split(X_main, y_main, test_size=0.2, random_state=10)\n",
    "print(\"Subset: (Lines, Columns)\")\n",
    "print(\"X_train: \", X_train.shape, \"\\ny_train: \", y_train.shape, \"\\nX_test: \", X_test.shape, \"\\ny_test: \", y_test.shape)"
   ]
  },
  {
   "cell_type": "markdown",
   "id": "cbd0e7ca",
   "metadata": {},
   "source": [
    "## 5. Trying and comparing regression models\n",
    "### R2 and MSE"
   ]
  },
  {
   "cell_type": "code",
   "execution_count": 62,
   "id": "d057077f",
   "metadata": {},
   "outputs": [
    {
     "name": "stdout",
     "output_type": "stream",
     "text": [
      "Linear Regression \n",
      " r2:  0.656 \n",
      " Coeficients:  [[-6.20315203e+11 -2.72325626e+11 -1.46559991e+09 -1.46559991e+09\n",
      "  -1.46559991e+09 -1.46559991e+09  1.24000000e-01  4.40000000e-02\n",
      "   7.40000000e-02  4.50000000e-02  1.83000000e-01 -1.03000000e-01\n",
      "  -8.20000000e-02  5.70000000e-02  9.80000000e-02 -1.75000000e-01\n",
      "  -4.80000000e-02  4.18000000e-01 -3.80000000e-02 -1.64000000e-01\n",
      "  -5.51000000e-01  1.74000000e-01  6.90000000e-02  1.20000000e-01\n",
      "   1.31000000e-01  7.00000000e-02 -4.90000000e-02 -1.00000000e-02\n",
      "   5.60000000e-02  2.10000000e-01 -5.00000000e-03  1.22000000e-01\n",
      "  -6.70000000e-02 -3.50000000e-02  2.11701881e+11 -1.36287697e+11\n",
      "  -1.36287697e+11  8.00007464e+07  8.00007465e+07  8.00007466e+07\n",
      "   8.00007465e+07  8.00007465e+07  7.97345584e+09  7.97345584e+09\n",
      "   7.97345584e+09  9.00000000e-03  6.97000000e-01]] \n",
      "\n",
      "Regression Tree \n",
      " r2:  0.469 \n",
      " Depth:  40 \n",
      " Leaves:  8424 \n",
      " Feature importances:  [0.    0.043 0.007 0.006 0.005 0.007 0.065 0.005 0.004 0.003 0.005 0.004\n",
      " 0.005 0.004 0.003 0.01  0.006 0.013 0.005 0.005 0.005 0.003 0.003 0.001\n",
      " 0.002 0.002 0.007 0.004 0.003 0.001 0.003 0.001 0.003 0.004 0.    0.002\n",
      " 0.001 0.004 0.004 0.004 0.005 0.003 0.001 0.004 0.002 0.119 0.604] \n",
      "\n",
      "Random Forest Regressor \n",
      " r2:  0.722 \n",
      " Feature importances:  [0.011 0.023 0.006 0.006 0.005 0.006 0.062 0.007 0.003 0.004 0.007 0.005\n",
      " 0.005 0.003 0.003 0.01  0.006 0.012 0.005 0.005 0.005 0.002 0.003 0.001\n",
      " 0.002 0.002 0.007 0.004 0.003 0.002 0.003 0.001 0.003 0.004 0.009 0.002\n",
      " 0.002 0.005 0.003 0.004 0.005 0.004 0.002 0.002 0.004 0.117 0.605] \n",
      "\n",
      "Support Vector Machines \n",
      " r2:  0.659 \n",
      "\n",
      "Gradient Boosting Regressor \n",
      " r2:  0.703\n"
     ]
    }
   ],
   "source": [
    "from sklearn.linear_model import LinearRegression\n",
    "LR = LinearRegression().fit(X_train, y_train)\n",
    "print(\"Linear Regression \\n r2: \", LR.score(X_test, y_test).round(3), \"\\n Coeficients: \", LR.coef_.round(3), \"\\n\")\n",
    "\n",
    "from sklearn.tree import DecisionTreeRegressor\n",
    "RT = DecisionTreeRegressor(random_state=10).fit(X_train, y_train)\n",
    "print(\"Regression Tree \\n r2: \", RT.score(X_test, y_test).round(3), \"\\n Depth: \", RT.get_depth(), \"\\n Leaves: \", RT.get_n_leaves(), \"\\n Feature importances: \", RT.feature_importances_.round(3), \"\\n\")\n",
    "\n",
    "from sklearn.ensemble import RandomForestRegressor\n",
    "RF = RandomForestRegressor(random_state=5).fit(X_train, y_train)\n",
    "print(\"Random Forest Regressor \\n r2: \", RF.score(X_test, y_test).round(3), \"\\n Feature importances: \", RF.feature_importances_.round(3), \"\\n\")\n",
    "\n",
    "from sklearn.svm import SVR\n",
    "SVMr = SVR().fit(X_train, y_train)\n",
    "print(\"Support Vector Machines \\n r2: \", SVMr.score(X_test, y_test).round(3), \"\\n\")\n",
    "\n",
    "from sklearn.ensemble import GradientBoostingRegressor\n",
    "GBR = GradientBoostingRegressor().fit(X_train, y_train)\n",
    "print(\"Gradient Boosting Regressor \\n r2: \", GBR.score(X_test, y_test).round(3))"
   ]
  },
  {
   "cell_type": "code",
   "execution_count": 63,
   "id": "4fbbb90c",
   "metadata": {},
   "outputs": [
    {
     "name": "stdout",
     "output_type": "stream",
     "text": [
      "Linear Regression \n",
      "R2:  0.641 \n",
      "MSE:  0.601 \n",
      "\n",
      "Regression Tree \n",
      "R2:  0.446 \n",
      "MSE:  0.927 \n",
      "\n",
      "Random Forest Regressor \n",
      "R2:  0.693 \n",
      "MSE:  0.514 \n",
      "\n",
      "Support Vector Machines \n",
      "R2:  0.649 \n",
      "MSE:  0.588 \n",
      "\n",
      "Gradient Boosting Regressor \n",
      "R2:  0.677 \n",
      "MSE:  0.54\n"
     ]
    }
   ],
   "source": [
    "from sklearn.metrics import r2_score, mean_squared_error\n",
    "\n",
    "y_predict_LR = LR.predict(X_val)\n",
    "print(\"Linear Regression \\nR2: \", r2_score(y_val, y_predict_LR).round(3), \"\\nMSE: \", mean_squared_error(y_val, y_predict_LR).round(3), \"\\n\")\n",
    "\n",
    "y_predict_RT = RT.predict(X_val)\n",
    "print(\"Regression Tree \\nR2: \", r2_score(y_val, y_predict_RT).round(3), \"\\nMSE: \", mean_squared_error(y_val, y_predict_RT).round(3), \"\\n\")\n",
    "\n",
    "y_predict_RF = RF.predict(X_val)\n",
    "print(\"Random Forest Regressor \\nR2: \", r2_score(y_val, y_predict_RF).round(3), \"\\nMSE: \", mean_squared_error(y_val, y_predict_RF).round(3), \"\\n\")\n",
    "\n",
    "y_predict_SVMr = SVMr.predict(X_val)\n",
    "print(\"Support Vector Machines \\nR2: \", r2_score(y_val, y_predict_SVMr).round(3), \"\\nMSE: \", mean_squared_error(y_val, y_predict_SVMr).round(3), \"\\n\")\n",
    "\n",
    "y_predict_GBR = GBR.predict(X_val)\n",
    "print(\"Gradient Boosting Regressor \\nR2: \", r2_score(y_val, y_predict_GBR).round(3), \"\\nMSE: \", mean_squared_error(y_val, y_predict_GBR).round(3))"
   ]
  },
  {
   "cell_type": "markdown",
   "id": "5834134f",
   "metadata": {},
   "source": [
    "The comparison of R2 and MSE for every model when applied to the validation subset nets a slight advantage for the Random Forest regressor.\n",
    "\n",
    "### F1 score"
   ]
  },
  {
   "cell_type": "code",
   "execution_count": 64,
   "id": "7713d98d",
   "metadata": {},
   "outputs": [
    {
     "data": {
      "text/html": [
       "<div>\n",
       "<style scoped>\n",
       "    .dataframe tbody tr th:only-of-type {\n",
       "        vertical-align: middle;\n",
       "    }\n",
       "\n",
       "    .dataframe tbody tr th {\n",
       "        vertical-align: top;\n",
       "    }\n",
       "\n",
       "    .dataframe thead th {\n",
       "        text-align: right;\n",
       "    }\n",
       "</style>\n",
       "<table border=\"1\" class=\"dataframe\">\n",
       "  <thead>\n",
       "    <tr style=\"text-align: right;\">\n",
       "      <th></th>\n",
       "      <th>imdb_score</th>\n",
       "      <th>predict_LR</th>\n",
       "      <th>predict_RT</th>\n",
       "      <th>predict_RF</th>\n",
       "      <th>predict_SVMr</th>\n",
       "      <th>predict_GBR</th>\n",
       "      <th>score</th>\n",
       "      <th>cat_LR</th>\n",
       "      <th>cat_RT</th>\n",
       "      <th>cat_RF</th>\n",
       "      <th>cat_SVMr</th>\n",
       "      <th>cat_GBR</th>\n",
       "    </tr>\n",
       "  </thead>\n",
       "  <tbody>\n",
       "    <tr>\n",
       "      <th>4940</th>\n",
       "      <td>7.7</td>\n",
       "      <td>7.880005</td>\n",
       "      <td>7.7</td>\n",
       "      <td>7.701</td>\n",
       "      <td>7.756504</td>\n",
       "      <td>7.648904</td>\n",
       "      <td>6</td>\n",
       "      <td>6</td>\n",
       "      <td>6</td>\n",
       "      <td>6</td>\n",
       "      <td>6</td>\n",
       "      <td>6</td>\n",
       "    </tr>\n",
       "    <tr>\n",
       "      <th>1174</th>\n",
       "      <td>8.0</td>\n",
       "      <td>8.464661</td>\n",
       "      <td>8.0</td>\n",
       "      <td>8.062</td>\n",
       "      <td>9.001944</td>\n",
       "      <td>8.418867</td>\n",
       "      <td>7</td>\n",
       "      <td>7</td>\n",
       "      <td>7</td>\n",
       "      <td>7</td>\n",
       "      <td>8</td>\n",
       "      <td>7</td>\n",
       "    </tr>\n",
       "    <tr>\n",
       "      <th>11578</th>\n",
       "      <td>2.8</td>\n",
       "      <td>6.781372</td>\n",
       "      <td>5.4</td>\n",
       "      <td>6.140</td>\n",
       "      <td>6.907117</td>\n",
       "      <td>6.587183</td>\n",
       "      <td>1</td>\n",
       "      <td>5</td>\n",
       "      <td>4</td>\n",
       "      <td>5</td>\n",
       "      <td>5</td>\n",
       "      <td>5</td>\n",
       "    </tr>\n",
       "    <tr>\n",
       "      <th>11517</th>\n",
       "      <td>8.1</td>\n",
       "      <td>7.132141</td>\n",
       "      <td>6.7</td>\n",
       "      <td>6.812</td>\n",
       "      <td>6.976856</td>\n",
       "      <td>6.979556</td>\n",
       "      <td>7</td>\n",
       "      <td>6</td>\n",
       "      <td>5</td>\n",
       "      <td>5</td>\n",
       "      <td>5</td>\n",
       "      <td>5</td>\n",
       "    </tr>\n",
       "    <tr>\n",
       "      <th>4967</th>\n",
       "      <td>6.5</td>\n",
       "      <td>6.869324</td>\n",
       "      <td>6.3</td>\n",
       "      <td>6.804</td>\n",
       "      <td>6.806465</td>\n",
       "      <td>6.707484</td>\n",
       "      <td>5</td>\n",
       "      <td>5</td>\n",
       "      <td>5</td>\n",
       "      <td>5</td>\n",
       "      <td>5</td>\n",
       "      <td>5</td>\n",
       "    </tr>\n",
       "  </tbody>\n",
       "</table>\n",
       "</div>"
      ],
      "text/plain": [
       "       imdb_score  predict_LR  predict_RT  predict_RF  predict_SVMr  \\\n",
       "4940          7.7    7.880005         7.7       7.701      7.756504   \n",
       "1174          8.0    8.464661         8.0       8.062      9.001944   \n",
       "11578         2.8    6.781372         5.4       6.140      6.907117   \n",
       "11517         8.1    7.132141         6.7       6.812      6.976856   \n",
       "4967          6.5    6.869324         6.3       6.804      6.806465   \n",
       "\n",
       "       predict_GBR  score  cat_LR  cat_RT  cat_RF  cat_SVMr  cat_GBR  \n",
       "4940      7.648904      6       6       6       6         6        6  \n",
       "1174      8.418867      7       7       7       7         8        7  \n",
       "11578     6.587183      1       5       4       5         5        5  \n",
       "11517     6.979556      7       6       5       5         5        5  \n",
       "4967      6.707484      5       5       5       5         5        5  "
      ]
     },
     "execution_count": 64,
     "metadata": {},
     "output_type": "execute_result"
    }
   ],
   "source": [
    "y_val[\"predict_LR\"] = y_predict_LR\n",
    "y_val[\"predict_RT\"] = y_predict_RT\n",
    "y_val[\"predict_RF\"] = y_predict_RF\n",
    "y_val[\"predict_SVMr\"] = y_predict_SVMr\n",
    "y_val[\"predict_GBR\"] = y_predict_GBR\n",
    "\n",
    "def get_imdb_score_class(score):\n",
    "    if score < 2:  # 1 <= score < 2\n",
    "        return 0\n",
    "    elif score < 3:\n",
    "        return 1\n",
    "    elif score < 4:\n",
    "        return 2\n",
    "    elif score < 5:\n",
    "        return 3\n",
    "    elif score < 6:\n",
    "        return 4\n",
    "    elif score < 7:\n",
    "        return 5\n",
    "    elif score < 8:\n",
    "        return 6\n",
    "    elif score < 9:\n",
    "        return 7\n",
    "    else:  # 9 <= score <= 10\n",
    "        return 8\n",
    "\n",
    "y_val[\"score\"] = y_val[\"imdb_score\"].apply(get_imdb_score_class)\n",
    "y_val[\"cat_LR\"] = y_val[\"predict_LR\"].apply(get_imdb_score_class)\n",
    "y_val[\"cat_RT\"] = y_val[\"predict_RT\"].apply(get_imdb_score_class)\n",
    "y_val[\"cat_RF\"] = y_val[\"predict_RF\"].apply(get_imdb_score_class)\n",
    "y_val[\"cat_SVMr\"] = y_val[\"predict_SVMr\"].apply(get_imdb_score_class)\n",
    "y_val[\"cat_GBR\"] = y_val[\"predict_GBR\"].apply(get_imdb_score_class)\n",
    "y_val.head()"
   ]
  },
  {
   "cell_type": "code",
   "execution_count": 65,
   "id": "6070fbc4",
   "metadata": {},
   "outputs": [
    {
     "name": "stdout",
     "output_type": "stream",
     "text": [
      "Linear Regression\n",
      "              precision    recall  f1-score   support\n",
      "\n",
      "           0       1.00      0.17      0.29         6\n",
      "           1       0.82      0.47      0.60        19\n",
      "           2       0.76      0.64      0.69        53\n",
      "           3       0.69      0.58      0.63       149\n",
      "           4       0.68      0.64      0.66       338\n",
      "           5       0.50      0.68      0.57       491\n",
      "           6       0.58      0.56      0.57       454\n",
      "           7       0.63      0.16      0.26       137\n",
      "           8       0.25      0.12      0.17         8\n",
      "\n",
      "    accuracy                           0.58      1655\n",
      "   macro avg       0.66      0.45      0.49      1655\n",
      "weighted avg       0.60      0.58      0.57      1655\n",
      "\n",
      "\n",
      "Regression Tree\n",
      "              precision    recall  f1-score   support\n",
      "\n",
      "           0       1.00      0.17      0.29         6\n",
      "           1       0.50      0.53      0.51        19\n",
      "           2       0.59      0.57      0.58        53\n",
      "           3       0.56      0.55      0.56       149\n",
      "           4       0.61      0.64      0.62       338\n",
      "           5       0.58      0.55      0.57       491\n",
      "           6       0.61      0.60      0.60       454\n",
      "           7       0.42      0.49      0.45       137\n",
      "           8       0.00      0.00      0.00         8\n",
      "\n",
      "    accuracy                           0.58      1655\n",
      "   macro avg       0.54      0.46      0.46      1655\n",
      "weighted avg       0.58      0.58      0.57      1655\n",
      "\n",
      "\n",
      "Random Forest\n",
      "              precision    recall  f1-score   support\n",
      "\n",
      "           0       1.00      0.50      0.67         6\n",
      "           1       0.83      0.53      0.65        19\n",
      "           2       0.78      0.60      0.68        53\n",
      "           3       0.70      0.62      0.66       149\n",
      "           4       0.64      0.72      0.68       338\n",
      "           5       0.58      0.68      0.63       491\n",
      "           6       0.66      0.65      0.66       454\n",
      "           7       0.76      0.33      0.46       137\n",
      "           8       0.00      0.00      0.00         8\n",
      "\n",
      "    accuracy                           0.64      1655\n",
      "   macro avg       0.66      0.52      0.56      1655\n",
      "weighted avg       0.65      0.64      0.63      1655\n",
      "\n",
      "\n",
      "Support Vector Machines\n",
      "              precision    recall  f1-score   support\n",
      "\n",
      "           0       1.00      0.50      0.67         6\n",
      "           1       1.00      0.58      0.73        19\n",
      "           2       0.85      0.66      0.74        53\n",
      "           3       0.78      0.60      0.68       149\n",
      "           4       0.74      0.63      0.68       338\n",
      "           5       0.52      0.76      0.62       491\n",
      "           6       0.68      0.64      0.66       454\n",
      "           7       0.81      0.28      0.41       137\n",
      "           8       0.00      0.00      0.00         8\n",
      "\n",
      "    accuracy                           0.64      1655\n",
      "   macro avg       0.71      0.52      0.58      1655\n",
      "weighted avg       0.67      0.64      0.63      1655\n",
      "\n",
      "\n",
      "Gradient Boosting Regressor\n",
      "              precision    recall  f1-score   support\n",
      "\n",
      "           0       0.00      0.00      0.00         6\n",
      "           1       0.75      0.47      0.58        19\n",
      "           2       0.77      0.62      0.69        53\n",
      "           3       0.79      0.58      0.67       149\n",
      "           4       0.70      0.70      0.70       338\n",
      "           5       0.52      0.73      0.61       491\n",
      "           6       0.65      0.61      0.63       454\n",
      "           7       0.92      0.25      0.39       137\n",
      "           8       1.00      0.12      0.22         8\n",
      "\n",
      "    accuracy                           0.63      1655\n",
      "   macro avg       0.68      0.45      0.50      1655\n",
      "weighted avg       0.66      0.63      0.62      1655\n",
      "\n"
     ]
    }
   ],
   "source": [
    "from sklearn.metrics import classification_report\n",
    "\n",
    "print(\"Linear Regression\")\n",
    "print(classification_report(y_val[\"score\"], y_val[\"cat_LR\"])) \n",
    "print(\"\\nRegression Tree\")\n",
    "print(classification_report(y_val[\"score\"], y_val[\"cat_RT\"]))\n",
    "print(\"\\nRandom Forest\")\n",
    "print(classification_report(y_val[\"score\"], y_val[\"cat_RF\"])) \n",
    "print(\"\\nSupport Vector Machines\")\n",
    "print(classification_report(y_val[\"score\"], y_val[\"cat_SVMr\"])) \n",
    "print(\"\\nGradient Boosting Regressor\")\n",
    "print(classification_report(y_val[\"score\"], y_val[\"cat_GBR\"])) "
   ]
  },
  {
   "cell_type": "markdown",
   "id": "67b970de",
   "metadata": {},
   "source": [
    "After transforming the predicted IMDB scores of the validation subset into the target feature with the function described in this challenge, we can compare the models again on their F1 scores. There is a tie here for the Random Forest, Support Vector Machine and Gradient Boosting.\n",
    "\n",
    "### Cross-validation"
   ]
  },
  {
   "cell_type": "code",
   "execution_count": 66,
   "id": "e58a8769",
   "metadata": {},
   "outputs": [
    {
     "name": "stdout",
     "output_type": "stream",
     "text": [
      "Linear Regression, cross validation \n",
      " r2:  [0.632 0.655 0.65  0.661 0.658] \n",
      " average:  0.651 \n",
      "\n",
      "Regression Tree, cross validation \n",
      " r2:  [0.448 0.472 0.478 0.437 0.491] \n",
      " average:  0.465 \n",
      "\n",
      "Random Forest, cross validation \n",
      " r2:  [0.713 0.714 0.729 0.725 0.711] \n",
      " average:  0.719 \n",
      "\n",
      "Support Vector Machine, cross validation \n",
      " r2:  [0.638 0.659 0.648 0.667 0.66 ] \n",
      " average:  0.654 \n",
      "\n",
      "Gradient Boosting Regressor, cross validation \n",
      " r2:  [0.677 0.702 0.698 0.706 0.702] \n",
      " average:  0.697\n"
     ]
    }
   ],
   "source": [
    "from sklearn.model_selection import cross_val_score\n",
    "\n",
    "LR_cv = LinearRegression()\n",
    "scores = cross_val_score(LR_cv, X, y, cv=5)\n",
    "print(\"Linear Regression, cross validation \\n r2: \", scores.round(3), \"\\n average: \", scores.mean().round(3), \"\\n\")\n",
    "\n",
    "RT_cv = DecisionTreeRegressor(random_state=10)\n",
    "scores = cross_val_score(RT_cv, X, y, cv=5)\n",
    "print(\"Regression Tree, cross validation \\n r2: \", scores.round(3), \"\\n average: \", scores.mean().round(3), \"\\n\")\n",
    "\n",
    "RF_cv = RandomForestRegressor(random_state=5)\n",
    "scores = cross_val_score(RF_cv, X, y, cv=5)\n",
    "print(\"Random Forest, cross validation \\n r2: \", scores.round(3), \"\\n average: \", scores.mean().round(3), \"\\n\")\n",
    "\n",
    "SVMr_cv = SVR()\n",
    "scores = cross_val_score(SVMr_cv, X, y, cv=5)\n",
    "print(\"Support Vector Machine, cross validation \\n r2: \", scores.round(3), \"\\n average: \", scores.mean().round(3), \"\\n\")\n",
    "\n",
    "GBR_cv = GradientBoostingRegressor()\n",
    "scores = cross_val_score(GBR_cv, X, y, cv=5)\n",
    "print(\"Gradient Boosting Regressor, cross validation \\n r2: \", scores.round(3), \"\\n average: \", scores.mean().round(3))"
   ]
  },
  {
   "cell_type": "markdown",
   "id": "383884b0",
   "metadata": {},
   "source": [
    "Another comparison of the models based on a full dataset cross-validation (5 folds) nets the Random Forest regressor as the most accurate model again. "
   ]
  },
  {
   "cell_type": "markdown",
   "id": "0e3cbdf5",
   "metadata": {},
   "source": [
    "## 6. Final training of the Random Forest regressor\n",
    "\n",
    "We will run a grid-search of the regressor to find the parameters achieving the best fit, the train it again on the whole train dataset."
   ]
  },
  {
   "cell_type": "code",
   "execution_count": 67,
   "id": "91272513",
   "metadata": {},
   "outputs": [
    {
     "name": "stdout",
     "output_type": "stream",
     "text": [
      "{'bootstrap': True, 'criterion': 'squared_error', 'warm_start': True}\n",
      "0.726\n"
     ]
    }
   ],
   "source": [
    "from sklearn.model_selection import GridSearchCV\n",
    "\n",
    "parameters = {\"criterion\":(\"squared_error\", \"friedman_mse\", \"absolute_error\", \"poisson\")\\\n",
    "              , \"bootstrap\":(True, False)\\\n",
    "              , \"warm_start\":(True, False)\\\n",
    "             }\n",
    "RF = RandomForestRegressor()\n",
    "RF_gs = GridSearchCV(RF, parameters, cv=5, n_jobs=14)\n",
    "RF_gs.fit(X_train, y_train)\n",
    "print(RF_gs.best_params_)\n",
    "print(RF_gs.score(X_test, y_test).round(3))"
   ]
  },
  {
   "cell_type": "code",
   "execution_count": 85,
   "id": "cb2718f4",
   "metadata": {},
   "outputs": [],
   "source": [
    "model_RF = RandomForestRegressor(criterion=\"squared_error\", warm_start=True, bootstrap=True, n_jobs=14).fit(X, y)"
   ]
  },
  {
   "cell_type": "markdown",
   "id": "6e21edb0",
   "metadata": {},
   "source": [
    "## 7. Transformations of the test dataset \n",
    "We need to apply on the test dataset the same transformations done on the features of the train dataset."
   ]
  },
  {
   "cell_type": "code",
   "execution_count": 69,
   "id": "aa5ed1a1",
   "metadata": {},
   "outputs": [
    {
     "name": "stdout",
     "output_type": "stream",
     "text": [
      "<class 'pandas.core.frame.DataFrame'>\n",
      "RangeIndex: 1507 entries, 0 to 1506\n",
      "Data columns (total 12 columns):\n",
      " #   Column                Non-Null Count  Dtype  \n",
      "---  ------                --------------  -----  \n",
      " 0   id                    1507 non-null   object \n",
      " 1   title                 1507 non-null   object \n",
      " 2   type                  1507 non-null   object \n",
      " 3   description           1499 non-null   object \n",
      " 4   release_year          1507 non-null   int64  \n",
      " 5   age_certification     520 non-null    object \n",
      " 6   runtime               1507 non-null   int64  \n",
      " 7   genres                1507 non-null   object \n",
      " 8   production_countries  1507 non-null   object \n",
      " 9   seasons               298 non-null    float64\n",
      " 10  imdb_votes            1507 non-null   int64  \n",
      " 11  streaming             1507 non-null   object \n",
      "dtypes: float64(1), int64(3), object(8)\n",
      "memory usage: 141.4+ KB\n"
     ]
    }
   ],
   "source": [
    "test = pd.read_csv(\"test_titles.csv\")\n",
    "test.info()"
   ]
  },
  {
   "cell_type": "code",
   "execution_count": 70,
   "id": "03eb4a82",
   "metadata": {},
   "outputs": [
    {
     "data": {
      "text/plain": [
       "id                         0\n",
       "title                      0\n",
       "type                       0\n",
       "description                8\n",
       "release_year               0\n",
       "age_certification        987\n",
       "runtime                    0\n",
       "genres                     0\n",
       "production_countries       0\n",
       "seasons                 1209\n",
       "imdb_votes                 0\n",
       "streaming                  0\n",
       "dtype: int64"
      ]
     },
     "execution_count": 70,
     "metadata": {},
     "output_type": "execute_result"
    }
   ],
   "source": [
    "test.isna().sum()"
   ]
  },
  {
   "cell_type": "markdown",
   "id": "01392a07",
   "metadata": {},
   "source": [
    "The test dataset looks fine, so we will first merge the information on the directors from the test_credits dataset."
   ]
  },
  {
   "cell_type": "code",
   "execution_count": 71,
   "id": "4c78a7e0",
   "metadata": {},
   "outputs": [
    {
     "name": "stdout",
     "output_type": "stream",
     "text": [
      "<class 'pandas.core.frame.DataFrame'>\n",
      "RangeIndex: 18452 entries, 0 to 18451\n",
      "Data columns (total 6 columns):\n",
      " #   Column      Non-Null Count  Dtype \n",
      "---  ------      --------------  ----- \n",
      " 0   Unnamed: 0  18452 non-null  int64 \n",
      " 1   person_id   18452 non-null  int64 \n",
      " 2   id          18452 non-null  object\n",
      " 3   name        18452 non-null  object\n",
      " 4   character   15895 non-null  object\n",
      " 5   role        18452 non-null  object\n",
      "dtypes: int64(2), object(4)\n",
      "memory usage: 865.1+ KB\n"
     ]
    }
   ],
   "source": [
    "testCredits = pd.read_csv(\"test_credits.csv\")\n",
    "testCredits.info()"
   ]
  },
  {
   "cell_type": "code",
   "execution_count": 72,
   "id": "88984378",
   "metadata": {},
   "outputs": [
    {
     "data": {
      "text/plain": [
       "unknown    484\n",
       "37676        3\n",
       "89006        3\n",
       "126756       3\n",
       "32565        3\n",
       "          ... \n",
       "1186809      1\n",
       "1366244      1\n",
       "1138026      1\n",
       "337270       1\n",
       "145025       1\n",
       "Name: person_id, Length: 988, dtype: int64"
      ]
     },
     "execution_count": 72,
     "metadata": {},
     "output_type": "execute_result"
    }
   ],
   "source": [
    "testCredits[\"person_id\"] = testCredits[\"person_id\"].astype(str)\n",
    "testDirectors = testCredits[[\"id\", \"person_id\", \"name\"]][testCredits[\"role\"] == \"DIRECTOR\"]\n",
    "testDirectors.drop_duplicates(subset=\"id\", keep=False, inplace=True, ignore_index=True)\n",
    "test = pd.merge(test, testDirectors, how=\"left\", on=\"id\")\n",
    "test[\"person_id\"].fillna(\"unknown\", inplace=True)\n",
    "test[\"person_id\"].value_counts()"
   ]
  },
  {
   "cell_type": "markdown",
   "id": "08d79e7d",
   "metadata": {},
   "source": [
    "We can now import the average IMDB scores of the directors listed in the main dataset."
   ]
  },
  {
   "cell_type": "code",
   "execution_count": 73,
   "id": "f5471a08",
   "metadata": {},
   "outputs": [
    {
     "data": {
      "text/plain": [
       "count    1507.000000\n",
       "mean        6.630761\n",
       "std         0.576258\n",
       "min         1.850000\n",
       "25%         6.750179\n",
       "50%         6.750179\n",
       "75%         6.750179\n",
       "max         8.400000\n",
       "Name: director_score, dtype: float64"
      ]
     },
     "execution_count": 73,
     "metadata": {},
     "output_type": "execute_result"
    }
   ],
   "source": [
    "def assignDirectorScore (input):\n",
    "    if input in directorScores:\n",
    "        return directorScores[input]\n",
    "    else:\n",
    "        return 6.750179 # average for \"unknown\" in train dataset\n",
    "    \n",
    "test[\"director_score\"] = test[\"person_id\"].apply(assignDirectorScore)\n",
    "test[\"director_score\"].describe()   "
   ]
  },
  {
   "cell_type": "code",
   "execution_count": 74,
   "id": "52e9b217",
   "metadata": {},
   "outputs": [
    {
     "data": {
      "image/png": "[encoded data removed]",
      "text/plain": [
       "<Figure size 1000x400 with 2 Axes>"
      ]
     },
     "metadata": {},
     "output_type": "display_data"
    }
   ],
   "source": [
    "plt.figure(figsize=(10,4))\n",
    "plt.subplot(1,2,1)\n",
    "plt.hist(df[\"director_score\"], bins = 30)\n",
    "plt.title(\"Train\")\n",
    "plt.xlim(0,10)\n",
    "plt.subplot(1,2,2)\n",
    "plt.hist(test[\"director_score\"], bins = 30)\n",
    "plt.title(\"Test\")\n",
    "plt.xlim(0,10)\n",
    "plt.show;"
   ]
  },
  {
   "cell_type": "markdown",
   "id": "1417bf35",
   "metadata": {},
   "source": [
    "The histograms of the directors' scores look quite different. This is due to having many directors in the test dataset that were not found on the train dataset, so they are now accounted for as \"unknown\" and being assigned its average score."
   ]
  },
  {
   "cell_type": "code",
   "execution_count": 75,
   "id": "212b1f31",
   "metadata": {},
   "outputs": [
    {
     "data": {
      "text/html": [
       "<div>\n",
       "<style scoped>\n",
       "    .dataframe tbody tr th:only-of-type {\n",
       "        vertical-align: middle;\n",
       "    }\n",
       "\n",
       "    .dataframe tbody tr th {\n",
       "        vertical-align: top;\n",
       "    }\n",
       "\n",
       "    .dataframe thead th {\n",
       "        text-align: right;\n",
       "    }\n",
       "</style>\n",
       "<table border=\"1\" class=\"dataframe\">\n",
       "  <thead>\n",
       "    <tr style=\"text-align: right;\">\n",
       "      <th></th>\n",
       "      <th>id</th>\n",
       "      <th>title</th>\n",
       "      <th>type</th>\n",
       "      <th>description</th>\n",
       "      <th>release_year</th>\n",
       "      <th>age_certification</th>\n",
       "      <th>runtime</th>\n",
       "      <th>genres</th>\n",
       "      <th>production_countries</th>\n",
       "      <th>seasons</th>\n",
       "      <th>imdb_votes</th>\n",
       "      <th>streaming</th>\n",
       "      <th>person_id</th>\n",
       "      <th>name</th>\n",
       "      <th>director_score</th>\n",
       "      <th>0seasons</th>\n",
       "      <th>1seasons</th>\n",
       "      <th>2+seasons</th>\n",
       "      <th>comedy</th>\n",
       "      <th>european</th>\n",
       "      <th>crime</th>\n",
       "      <th>drama</th>\n",
       "      <th>...</th>\n",
       "      <th>JP</th>\n",
       "      <th>CA</th>\n",
       "      <th>KR</th>\n",
       "      <th>EUR</th>\n",
       "      <th>OTHER</th>\n",
       "      <th>MOVIE</th>\n",
       "      <th>SHOW</th>\n",
       "      <th>amazon</th>\n",
       "      <th>disney</th>\n",
       "      <th>hbo</th>\n",
       "      <th>hulu</th>\n",
       "      <th>netflix</th>\n",
       "      <th>2008</th>\n",
       "      <th>2017</th>\n",
       "      <th>2020</th>\n",
       "      <th>2023</th>\n",
       "      <th>ageTV</th>\n",
       "      <th>ageOther</th>\n",
       "      <th>ageNone</th>\n",
       "      <th>runtimeSC</th>\n",
       "      <th>imdb_votesSC</th>\n",
       "      <th>director_scoreSC</th>\n",
       "    </tr>\n",
       "  </thead>\n",
       "  <tbody>\n",
       "    <tr>\n",
       "      <th>0</th>\n",
       "      <td>tm54590</td>\n",
       "      <td>Kansas</td>\n",
       "      <td>MOVIE</td>\n",
       "      <td>A drifter becomes both a bank robber and a her...</td>\n",
       "      <td>1988</td>\n",
       "      <td>R</td>\n",
       "      <td>110</td>\n",
       "      <td>['drama', 'thriller', 'crime', 'romance']</td>\n",
       "      <td>['US']</td>\n",
       "      <td>0.0</td>\n",
       "      <td>1237</td>\n",
       "      <td>amazon</td>\n",
       "      <td>94918</td>\n",
       "      <td>David Stevens</td>\n",
       "      <td>6.750179</td>\n",
       "      <td>1</td>\n",
       "      <td>0</td>\n",
       "      <td>0</td>\n",
       "      <td>0</td>\n",
       "      <td>0</td>\n",
       "      <td>1</td>\n",
       "      <td>1</td>\n",
       "      <td>...</td>\n",
       "      <td>0</td>\n",
       "      <td>0</td>\n",
       "      <td>0</td>\n",
       "      <td>0</td>\n",
       "      <td>0</td>\n",
       "      <td>1.0</td>\n",
       "      <td>0.0</td>\n",
       "      <td>1.0</td>\n",
       "      <td>0.0</td>\n",
       "      <td>0.0</td>\n",
       "      <td>0.0</td>\n",
       "      <td>0.0</td>\n",
       "      <td>1</td>\n",
       "      <td>0</td>\n",
       "      <td>0</td>\n",
       "      <td>0</td>\n",
       "      <td>0</td>\n",
       "      <td>1</td>\n",
       "      <td>0</td>\n",
       "      <td>0.431373</td>\n",
       "      <td>-0.008811</td>\n",
       "      <td>-3.927438e-07</td>\n",
       "    </tr>\n",
       "    <tr>\n",
       "      <th>1</th>\n",
       "      <td>tm47969</td>\n",
       "      <td>Vibes</td>\n",
       "      <td>MOVIE</td>\n",
       "      <td>Medium Sylvia Pickel and psychometrist Nick De...</td>\n",
       "      <td>1988</td>\n",
       "      <td>PG</td>\n",
       "      <td>99</td>\n",
       "      <td>['comedy', 'romance']</td>\n",
       "      <td>['US']</td>\n",
       "      <td>0.0</td>\n",
       "      <td>4828</td>\n",
       "      <td>amazon</td>\n",
       "      <td>26576</td>\n",
       "      <td>Ken Kwapis</td>\n",
       "      <td>6.500000</td>\n",
       "      <td>1</td>\n",
       "      <td>0</td>\n",
       "      <td>0</td>\n",
       "      <td>1</td>\n",
       "      <td>0</td>\n",
       "      <td>0</td>\n",
       "      <td>0</td>\n",
       "      <td>...</td>\n",
       "      <td>0</td>\n",
       "      <td>0</td>\n",
       "      <td>0</td>\n",
       "      <td>0</td>\n",
       "      <td>0</td>\n",
       "      <td>1.0</td>\n",
       "      <td>0.0</td>\n",
       "      <td>1.0</td>\n",
       "      <td>0.0</td>\n",
       "      <td>0.0</td>\n",
       "      <td>0.0</td>\n",
       "      <td>0.0</td>\n",
       "      <td>1</td>\n",
       "      <td>0</td>\n",
       "      <td>0</td>\n",
       "      <td>0</td>\n",
       "      <td>0</td>\n",
       "      <td>1</td>\n",
       "      <td>0</td>\n",
       "      <td>0.215686</td>\n",
       "      <td>0.449751</td>\n",
       "      <td>-2.942665e-01</td>\n",
       "    </tr>\n",
       "    <tr>\n",
       "      <th>2</th>\n",
       "      <td>tm124313</td>\n",
       "      <td>Full Moon High</td>\n",
       "      <td>MOVIE</td>\n",
       "      <td>A teenager becomes a werewolf after a family v...</td>\n",
       "      <td>1981</td>\n",
       "      <td>PG</td>\n",
       "      <td>93</td>\n",
       "      <td>['horror', 'comedy', 'fantasy']</td>\n",
       "      <td>['US']</td>\n",
       "      <td>0.0</td>\n",
       "      <td>1536</td>\n",
       "      <td>amazon</td>\n",
       "      <td>64456</td>\n",
       "      <td>Larry Cohen</td>\n",
       "      <td>5.050000</td>\n",
       "      <td>1</td>\n",
       "      <td>0</td>\n",
       "      <td>0</td>\n",
       "      <td>1</td>\n",
       "      <td>0</td>\n",
       "      <td>0</td>\n",
       "      <td>0</td>\n",
       "      <td>...</td>\n",
       "      <td>0</td>\n",
       "      <td>0</td>\n",
       "      <td>0</td>\n",
       "      <td>0</td>\n",
       "      <td>0</td>\n",
       "      <td>1.0</td>\n",
       "      <td>0.0</td>\n",
       "      <td>1.0</td>\n",
       "      <td>0.0</td>\n",
       "      <td>0.0</td>\n",
       "      <td>0.0</td>\n",
       "      <td>0.0</td>\n",
       "      <td>1</td>\n",
       "      <td>0</td>\n",
       "      <td>0</td>\n",
       "      <td>0</td>\n",
       "      <td>0</td>\n",
       "      <td>1</td>\n",
       "      <td>0</td>\n",
       "      <td>0.098039</td>\n",
       "      <td>0.029370</td>\n",
       "      <td>-1.999789e+00</td>\n",
       "    </tr>\n",
       "    <tr>\n",
       "      <th>3</th>\n",
       "      <td>tm120963</td>\n",
       "      <td>Girls Just Want to Have Fun</td>\n",
       "      <td>MOVIE</td>\n",
       "      <td>Janey is new in town, and soon meets Lynne, wh...</td>\n",
       "      <td>1985</td>\n",
       "      <td>PG</td>\n",
       "      <td>87</td>\n",
       "      <td>['romance', 'comedy', 'music']</td>\n",
       "      <td>['US']</td>\n",
       "      <td>0.0</td>\n",
       "      <td>12425</td>\n",
       "      <td>amazon</td>\n",
       "      <td>44896</td>\n",
       "      <td>Alan Metter</td>\n",
       "      <td>6.750179</td>\n",
       "      <td>1</td>\n",
       "      <td>0</td>\n",
       "      <td>0</td>\n",
       "      <td>1</td>\n",
       "      <td>0</td>\n",
       "      <td>0</td>\n",
       "      <td>0</td>\n",
       "      <td>...</td>\n",
       "      <td>0</td>\n",
       "      <td>0</td>\n",
       "      <td>0</td>\n",
       "      <td>0</td>\n",
       "      <td>0</td>\n",
       "      <td>1.0</td>\n",
       "      <td>0.0</td>\n",
       "      <td>1.0</td>\n",
       "      <td>0.0</td>\n",
       "      <td>0.0</td>\n",
       "      <td>0.0</td>\n",
       "      <td>0.0</td>\n",
       "      <td>1</td>\n",
       "      <td>0</td>\n",
       "      <td>0</td>\n",
       "      <td>0</td>\n",
       "      <td>0</td>\n",
       "      <td>1</td>\n",
       "      <td>0</td>\n",
       "      <td>-0.019608</td>\n",
       "      <td>1.419870</td>\n",
       "      <td>-3.927438e-07</td>\n",
       "    </tr>\n",
       "    <tr>\n",
       "      <th>4</th>\n",
       "      <td>tm118428</td>\n",
       "      <td>One More Saturday Night</td>\n",
       "      <td>MOVIE</td>\n",
       "      <td>The problems faced by both teenagers and adult...</td>\n",
       "      <td>1986</td>\n",
       "      <td>R</td>\n",
       "      <td>95</td>\n",
       "      <td>['comedy']</td>\n",
       "      <td>['US']</td>\n",
       "      <td>0.0</td>\n",
       "      <td>328</td>\n",
       "      <td>amazon</td>\n",
       "      <td>275525</td>\n",
       "      <td>Dennis Klein</td>\n",
       "      <td>6.750179</td>\n",
       "      <td>1</td>\n",
       "      <td>0</td>\n",
       "      <td>0</td>\n",
       "      <td>1</td>\n",
       "      <td>0</td>\n",
       "      <td>0</td>\n",
       "      <td>0</td>\n",
       "      <td>...</td>\n",
       "      <td>0</td>\n",
       "      <td>0</td>\n",
       "      <td>0</td>\n",
       "      <td>0</td>\n",
       "      <td>0</td>\n",
       "      <td>1.0</td>\n",
       "      <td>0.0</td>\n",
       "      <td>1.0</td>\n",
       "      <td>0.0</td>\n",
       "      <td>0.0</td>\n",
       "      <td>0.0</td>\n",
       "      <td>0.0</td>\n",
       "      <td>1</td>\n",
       "      <td>0</td>\n",
       "      <td>0</td>\n",
       "      <td>0</td>\n",
       "      <td>0</td>\n",
       "      <td>1</td>\n",
       "      <td>0</td>\n",
       "      <td>0.137255</td>\n",
       "      <td>-0.124888</td>\n",
       "      <td>-3.927438e-07</td>\n",
       "    </tr>\n",
       "  </tbody>\n",
       "</table>\n",
       "<p>5 rows × 62 columns</p>\n",
       "</div>"
      ],
      "text/plain": [
       "         id                        title   type  \\\n",
       "0   tm54590                       Kansas  MOVIE   \n",
       "1   tm47969                        Vibes  MOVIE   \n",
       "2  tm124313               Full Moon High  MOVIE   \n",
       "3  tm120963  Girls Just Want to Have Fun  MOVIE   \n",
       "4  tm118428      One More Saturday Night  MOVIE   \n",
       "\n",
       "                                         description  release_year  \\\n",
       "0  A drifter becomes both a bank robber and a her...          1988   \n",
       "1  Medium Sylvia Pickel and psychometrist Nick De...          1988   \n",
       "2  A teenager becomes a werewolf after a family v...          1981   \n",
       "3  Janey is new in town, and soon meets Lynne, wh...          1985   \n",
       "4  The problems faced by both teenagers and adult...          1986   \n",
       "\n",
       "  age_certification  runtime                                     genres  \\\n",
       "0                 R      110  ['drama', 'thriller', 'crime', 'romance']   \n",
       "1                PG       99                      ['comedy', 'romance']   \n",
       "2                PG       93            ['horror', 'comedy', 'fantasy']   \n",
       "3                PG       87             ['romance', 'comedy', 'music']   \n",
       "4                 R       95                                 ['comedy']   \n",
       "\n",
       "  production_countries  seasons  imdb_votes streaming person_id  \\\n",
       "0               ['US']      0.0        1237    amazon     94918   \n",
       "1               ['US']      0.0        4828    amazon     26576   \n",
       "2               ['US']      0.0        1536    amazon     64456   \n",
       "3               ['US']      0.0       12425    amazon     44896   \n",
       "4               ['US']      0.0         328    amazon    275525   \n",
       "\n",
       "            name  director_score  0seasons  1seasons  2+seasons  comedy  \\\n",
       "0  David Stevens        6.750179         1         0          0       0   \n",
       "1     Ken Kwapis        6.500000         1         0          0       1   \n",
       "2    Larry Cohen        5.050000         1         0          0       1   \n",
       "3    Alan Metter        6.750179         1         0          0       1   \n",
       "4   Dennis Klein        6.750179         1         0          0       1   \n",
       "\n",
       "   european  crime  drama  ...  JP  CA  KR  EUR  OTHER  MOVIE  SHOW  amazon  \\\n",
       "0         0      1      1  ...   0   0   0    0      0    1.0   0.0     1.0   \n",
       "1         0      0      0  ...   0   0   0    0      0    1.0   0.0     1.0   \n",
       "2         0      0      0  ...   0   0   0    0      0    1.0   0.0     1.0   \n",
       "3         0      0      0  ...   0   0   0    0      0    1.0   0.0     1.0   \n",
       "4         0      0      0  ...   0   0   0    0      0    1.0   0.0     1.0   \n",
       "\n",
       "   disney  hbo  hulu  netflix  2008  2017  2020  2023  ageTV  ageOther  \\\n",
       "0     0.0  0.0   0.0      0.0     1     0     0     0      0         1   \n",
       "1     0.0  0.0   0.0      0.0     1     0     0     0      0         1   \n",
       "2     0.0  0.0   0.0      0.0     1     0     0     0      0         1   \n",
       "3     0.0  0.0   0.0      0.0     1     0     0     0      0         1   \n",
       "4     0.0  0.0   0.0      0.0     1     0     0     0      0         1   \n",
       "\n",
       "   ageNone  runtimeSC  imdb_votesSC  director_scoreSC  \n",
       "0        0   0.431373     -0.008811     -3.927438e-07  \n",
       "1        0   0.215686      0.449751     -2.942665e-01  \n",
       "2        0   0.098039      0.029370     -1.999789e+00  \n",
       "3        0  -0.019608      1.419870     -3.927438e-07  \n",
       "4        0   0.137255     -0.124888     -3.927438e-07  \n",
       "\n",
       "[5 rows x 62 columns]"
      ]
     },
     "execution_count": 75,
     "metadata": {},
     "output_type": "execute_result"
    }
   ],
   "source": [
    "# Seasons\n",
    "test[\"seasons\"].fillna(0, inplace=True)\n",
    "i = 0\n",
    "while i < len(seasons):\n",
    "    test[seasons[i]] = test[\"seasons\"].apply(fillSeasons)\n",
    "    i += 1\n",
    "\n",
    "# Genres\n",
    "i = 0\n",
    "while i < len(genres):\n",
    "    test[genres[i]] = test[\"genres\"].apply(fillGenres)\n",
    "    i += 1\n",
    "\n",
    "# Production countries\n",
    "i = 0\n",
    "while i < len(producersGrouped):\n",
    "    test[producersGrouped[i]] = test[\"production_countries\"].apply(fillProducers)\n",
    "    i += 1\n",
    "\n",
    "# Type\n",
    "ohe = OneHotEncoder()\n",
    "transformed = ohe.fit_transform(test[[\"type\"]])\n",
    "test[ohe.categories_[0]] = transformed.toarray()\n",
    "\n",
    "# Streaming\n",
    "ohe = OneHotEncoder()\n",
    "transformed = ohe.fit_transform(test[[\"streaming\"]])\n",
    "test[ohe.categories_[0]] = transformed.toarray()\n",
    "\n",
    "# Release year\n",
    "i = 0\n",
    "while i < len(periods):\n",
    "    test[periods[i]] = test[\"release_year\"].apply(fillPeriods)\n",
    "    i += 1\n",
    "\n",
    "# Age certification\n",
    "i = 0\n",
    "while i < len(ageGroups):\n",
    "    test[ageGroups[i]] = test[\"age_certification\"].apply(fillAges)\n",
    "    i += 1\n",
    "\n",
    "# Robust Scaler\n",
    "test[[\"runtimeSC\", \"imdb_votesSC\", \"director_scoreSC\"]] = scaler.transform(test[[\"runtime\", \"imdb_votes\", \"director_score\"]])\n",
    "\n",
    "test.head()"
   ]
  },
  {
   "cell_type": "markdown",
   "id": "644e4646",
   "metadata": {},
   "source": [
    "## 8. Comparison of the features distribution in the train and test datasets\n",
    "\n",
    "Besides applying the required transformations, we can compare the distribution in the values in the features of both datasets. The more they differ, the less accurate the predictions will be.\n",
    "\n",
    "Unfortunately, we can see in the following comparisons how many of the features show much shorter ranges and slightly different distributions in the test dataset."
   ]
  },
  {
   "cell_type": "code",
   "execution_count": 89,
   "id": "9d285d93",
   "metadata": {},
   "outputs": [
    {
     "name": "stdout",
     "output_type": "stream",
     "text": [
      "Train\n",
      "MOVIE    12123\n",
      "SHOW      4422\n",
      "Name: type, dtype: int64\n",
      "\n",
      "Test\n",
      "MOVIE    1209\n",
      "SHOW      298\n",
      "Name: type, dtype: int64\n"
     ]
    }
   ],
   "source": [
    "# Type\n",
    "print(\"Train\")\n",
    "print(df[\"type\"].value_counts())\n",
    "print(\"\\nTest\")\n",
    "print(test[\"type\"].value_counts())"
   ]
  },
  {
   "cell_type": "code",
   "execution_count": 90,
   "id": "97843c9e",
   "metadata": {},
   "outputs": [
    {
     "data": {
      "text/plain": [
       "(0.0, 60.0)"
      ]
     },
     "execution_count": 90,
     "metadata": {},
     "output_type": "execute_result"
    },
    {
     "data": {
      "image/png": "[encoded data removed]",
      "text/plain": [
       "<Figure size 1000x400 with 2 Axes>"
      ]
     },
     "metadata": {},
     "output_type": "display_data"
    }
   ],
   "source": [
    "# Seasons\n",
    "plt.figure(figsize=(10,4))\n",
    "plt.subplot(1,2,1)\n",
    "sns.boxplot(x=df[\"seasons\"]);\n",
    "plt.title(\"Train\")\n",
    "plt.xlim(0,60)\n",
    "plt.subplot(1,2,2)\n",
    "sns.boxplot(x=test[\"seasons\"]);\n",
    "plt.title(\"Test\")\n",
    "plt.xlim(0,60)"
   ]
  },
  {
   "cell_type": "code",
   "execution_count": 91,
   "id": "1faf97af",
   "metadata": {},
   "outputs": [
    {
     "data": {
      "text/plain": [
       "(0.0, 350.0)"
      ]
     },
     "execution_count": 91,
     "metadata": {},
     "output_type": "execute_result"
    },
    {
     "data": {
      "image/png": "[encoded data removed]",
      "text/plain": [
       "<Figure size 1000x400 with 2 Axes>"
      ]
     },
     "metadata": {},
     "output_type": "display_data"
    }
   ],
   "source": [
    "# Runtime\n",
    "plt.figure(figsize=(10,4))\n",
    "plt.subplot(1,2,1)\n",
    "sns.boxplot(x=df[\"runtime\"]);\n",
    "plt.title(\"Train\")\n",
    "plt.xlim(0,350)\n",
    "plt.subplot(1,2,2)\n",
    "sns.boxplot(x=test[\"runtime\"]);\n",
    "plt.title(\"Test\")\n",
    "plt.xlim(0,350)"
   ]
  },
  {
   "cell_type": "code",
   "execution_count": 92,
   "id": "8295e492",
   "metadata": {},
   "outputs": [
    {
     "name": "stdout",
     "output_type": "stream",
     "text": [
      "Train\n",
      "amazon     7378\n",
      "netflix    4282\n",
      "hbo        2045\n",
      "hulu       1827\n",
      "disney     1013\n",
      "Name: streaming, dtype: int64\n",
      "\n",
      "Test\n",
      "amazon     1280\n",
      "netflix     207\n",
      "hulu         10\n",
      "hbo           9\n",
      "disney        1\n",
      "Name: streaming, dtype: int64\n"
     ]
    }
   ],
   "source": [
    "# Streaming\n",
    "print(\"Train\")\n",
    "print(df[\"streaming\"].value_counts())\n",
    "print(\"\\nTest\")\n",
    "print(test[\"streaming\"].value_counts())"
   ]
  },
  {
   "cell_type": "code",
   "execution_count": 93,
   "id": "94fe87d2",
   "metadata": {},
   "outputs": [
    {
     "data": {
      "text/plain": [
       "(1900.0, 2025.0)"
      ]
     },
     "execution_count": 93,
     "metadata": {},
     "output_type": "execute_result"
    },
    {
     "data": {
      "image/png": "[encoded data removed]",
      "text/plain": [
       "<Figure size 1000x400 with 2 Axes>"
      ]
     },
     "metadata": {},
     "output_type": "display_data"
    }
   ],
   "source": [
    "# Release year\n",
    "plt.figure(figsize=(10,4))\n",
    "plt.subplot(1,2,1)\n",
    "plt.xlim(1900, 2025)\n",
    "plt.title(\"Train\")\n",
    "sns.boxplot(x=df[\"release_year\"]);\n",
    "plt.subplot(1,2,2)\n",
    "sns.boxplot(x=test[\"release_year\"]);\n",
    "plt.title(\"Test\")\n",
    "plt.xlim(1900, 2025)"
   ]
  },
  {
   "cell_type": "code",
   "execution_count": 94,
   "id": "90f7708a",
   "metadata": {},
   "outputs": [
    {
     "data": {
      "text/plain": [
       "(0.0, 3000000.0)"
      ]
     },
     "execution_count": 94,
     "metadata": {},
     "output_type": "execute_result"
    },
    {
     "data": {
      "image/png": "[encoded data removed]",
      "text/plain": [
       "<Figure size 1000x400 with 2 Axes>"
      ]
     },
     "metadata": {},
     "output_type": "display_data"
    }
   ],
   "source": [
    "# IMDB votes\n",
    "plt.figure(figsize=(10,4))\n",
    "plt.subplot(1,2,1)\n",
    "sns.boxplot(x=df[\"imdb_votes\"]);\n",
    "plt.title(\"Train\")\n",
    "plt.xlim(0,3000000)\n",
    "plt.subplot(1,2,2)\n",
    "sns.boxplot(x=test[\"imdb_votes\"]);\n",
    "plt.title(\"Test\")\n",
    "plt.xlim(0,3000000)"
   ]
  },
  {
   "cell_type": "code",
   "execution_count": 96,
   "id": "28027198",
   "metadata": {},
   "outputs": [
    {
     "name": "stdout",
     "output_type": "stream",
     "text": [
      "Train\n",
      "ageTV:  0.22\n",
      "ageOther:  0.3\n",
      "ageNone:  0.48\n",
      "Test\n",
      "ageTV:  0.13\n",
      "ageOther:  0.21\n",
      "ageNone:  0.65\n"
     ]
    }
   ],
   "source": [
    "# Age certification groups\n",
    "print(\"Train\")\n",
    "print(\"ageTV: \", (df[\"ageTV\"][df[\"ageTV\"] == 1].sum() / df.shape[0]).round(2))\n",
    "print(\"ageOther: \", (df[\"ageOther\"][df[\"ageOther\"] == 1].sum() / df.shape[0]).round(2))\n",
    "print(\"ageNone: \", (df[\"ageNone\"][df[\"ageNone\"] == 1].sum() / df.shape[0]).round(2))\n",
    "print(\"Test\")\n",
    "print(\"ageTV: \", (test[\"ageTV\"][test[\"ageTV\"] == 1].sum() / test.shape[0]).round(2))\n",
    "print(\"ageOther: \", (test[\"ageOther\"][test[\"ageOther\"] == 1].sum() / test.shape[0]).round(2))\n",
    "print(\"ageNone: \", (test[\"ageNone\"][test[\"ageNone\"] == 1].sum() / test.shape[0]).round(2))"
   ]
  },
  {
   "cell_type": "markdown",
   "id": "53482c9d",
   "metadata": {},
   "source": [
    "## 9. Model predictions\n",
    "In the last step we generate the predicted imdb_score for the test dataset, then transform it into the target feature, prepare the resulting dataset in the format required for upload and export it as a JSON file."
   ]
  },
  {
   "cell_type": "code",
   "execution_count": 86,
   "id": "55495056",
   "metadata": {},
   "outputs": [
    {
     "data": {
      "text/html": [
       "<div>\n",
       "<style scoped>\n",
       "    .dataframe tbody tr th:only-of-type {\n",
       "        vertical-align: middle;\n",
       "    }\n",
       "\n",
       "    .dataframe tbody tr th {\n",
       "        vertical-align: top;\n",
       "    }\n",
       "\n",
       "    .dataframe thead th {\n",
       "        text-align: right;\n",
       "    }\n",
       "</style>\n",
       "<table border=\"1\" class=\"dataframe\">\n",
       "  <thead>\n",
       "    <tr style=\"text-align: right;\">\n",
       "      <th></th>\n",
       "      <th>target</th>\n",
       "    </tr>\n",
       "  </thead>\n",
       "  <tbody>\n",
       "    <tr>\n",
       "      <th>0</th>\n",
       "      <td>4</td>\n",
       "    </tr>\n",
       "    <tr>\n",
       "      <th>1</th>\n",
       "      <td>5</td>\n",
       "    </tr>\n",
       "    <tr>\n",
       "      <th>2</th>\n",
       "      <td>3</td>\n",
       "    </tr>\n",
       "    <tr>\n",
       "      <th>3</th>\n",
       "      <td>4</td>\n",
       "    </tr>\n",
       "    <tr>\n",
       "      <th>4</th>\n",
       "      <td>3</td>\n",
       "    </tr>\n",
       "  </tbody>\n",
       "</table>\n",
       "</div>"
      ],
      "text/plain": [
       "   target\n",
       "0       4\n",
       "1       5\n",
       "2       3\n",
       "3       4\n",
       "4       3"
      ]
     },
     "execution_count": 86,
     "metadata": {},
     "output_type": "execute_result"
    }
   ],
   "source": [
    "testX = test[[*types, *periods, \"runtimeSC\", *genres, *producersGrouped, *seasons, *streaming, *ageGroups, \"imdb_votesSC\", \"director_scoreSC\"]]\n",
    "scorePredict = model_RF.predict(testX)\n",
    "\n",
    "dfUpload = pd.DataFrame(scorePredict, columns=[\"score\"])\n",
    "dfUpload[\"target\"] = dfUpload[\"score\"].apply(get_imdb_score_class)\n",
    "dfUpload.drop(\"score\", inplace=True, axis=1)\n",
    "dfUpload.head()"
   ]
  },
  {
   "cell_type": "code",
   "execution_count": 87,
   "id": "20b59131",
   "metadata": {},
   "outputs": [],
   "source": [
    "dfUpload.to_json(\"predictions.json\")"
   ]
  }
 ],
 "metadata": {
  "kernelspec": {
   "display_name": "Python 3 (ipykernel)",
   "language": "python",
   "name": "python3"
  },
  "language_info": {
   "codemirror_mode": {
    "name": "ipython",
    "version": 3
   },
   "file_extension": ".py",
   "mimetype": "text/x-python",
   "name": "python",
   "nbconvert_exporter": "python",
   "pygments_lexer": "ipython3",
   "version": "3.9.12"
  }
 },
 "nbformat": 4,
 "nbformat_minor": 5
}
